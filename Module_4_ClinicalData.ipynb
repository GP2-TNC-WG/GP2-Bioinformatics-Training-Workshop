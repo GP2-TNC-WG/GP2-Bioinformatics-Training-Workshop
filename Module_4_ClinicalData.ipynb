{
 "cells": [
  {
   "cell_type": "markdown",
   "metadata": {},
   "source": [
    "# GP2 Tutorial - Module 4 - How to Interact with Clinical Data\n",
    "\n",
    "`GP2 ❤️ Open Science 😍`\n",
    "\n",
    "- **Module:** GP2 Demo\n",
    "- **Authors:** Sara Bandres-Ciga, Hampton Leonard, and Mary Makarious on behalf of the Global Parkinson's Genetics Program\n",
    "- **Estimated Computation and Runtime:** \n",
    "    - **Estimated Specifications:** Default; 1 CPU, 3.75 GB Memory, 50 GB Persistent Disk Size\n",
    "    - **Estimated Runtime:** 20 min.\n",
    "- **Date Last Updated:** 29-AUGUST-2022\n",
    "    - **Update Description:** Updating notebook for GP2 release 2.0\n",
    "    \n",
    "---\n",
    "### Quick Description\n",
    "These notebooks serve as a beginner's introduction to Terra, GP2, and AMP-PD data to help you get comfortable navigating the spaces, manage your costs, upload your own data, and begin running some simple analyses.\n",
    "\n",
    "\n",
    "### Course Summary\n",
    "- **Module 1:** Intro + demo Terra\n",
    "- **Module 2:** Introduction to current AMP and GP2 data + managing costs\n",
    "- **Module 3:** How to upload, access, and copy over data \n",
    "- **Module 4:** How to interact with clinical data + make mini covariate files **(this notebook!)**\n",
    "- **Module 5:** Analysis example 1: Run PRS with PD known hits in Non-Euro pops and data viz + save results\n",
    "- **Module 6:** Analysis example 2: How to extract a gene, annotate it, run burden, and get hmz and compound hets + save results\n",
    "- **Module 7:** WDL workflows: What they are + When to use + Quick example overview\n",
    "\n",
    "--- \n",
    "## Notebook Summary \n",
    "- Getting Started\n",
    "- Data Overview\n",
    "- How to pull clinical information from AMP-PD\n",
    "- Making a very basic covariate file from AMP-PD data\n",
    "- How to pull clinical information from GP2\n",
    "- Making a very basic covariate file from GP2 data\n",
    "- Downloading PLINKv1.9 and PLINKv2.0\n",
    "- Using PLINKv1.9 to subset data from AMP\n",
    "- Using PLINKv1.9 to subset data from GP2\n",
    "\n",
    "## Workflow\n",
    "\n",
    "### [Getting Started](#1)\n",
    "This section goes through: \n",
    "- Functions needed to interact between Terra and the cloud\n",
    "\n",
    "### [Data Overview](#2)\n",
    "This section goes through:\n",
    "- Quick overview access AMP-PD data\n",
    "- Quick overview of GP2 data\n",
    "\n",
    "### [How to Pull Clinical Information From AMP-PD](#3)\n",
    "This section goes through:\n",
    "- How to print out the available information AMP has \n",
    "- How to list out all files\n",
    "- How to make a working directory to copy your files of interest to\n",
    "\n",
    "### [Making a Very Basic Covariate File From AMP-PD Data](#4)\n",
    "This section goes through:\n",
    "- Pulling updated latest diagnosis information\n",
    "- Coding the proper PHENO information\n",
    "- Extracting the study arm information from Enrollment file\n",
    "- Extracting age at baseline and sex information from Demographics file\n",
    "- Coding the sex information\n",
    "- Merging and making small covariate file\n",
    "- Overview of cohort and pheno\n",
    "- Overview of age at baseline for cases \n",
    "- Overview of race\n",
    "\n",
    "### [How to Pull Clinical Information From GP2](#5)\n",
    "This section goes through:\n",
    "- Pulling the clinical information GP2 has available\n",
    "\n",
    "### [Making a Very Basic Covariate File From GP2 Data](#6)\n",
    "This section goes through:\n",
    "- Subsetting from the GP2 clinical file\n",
    "- Renaming columns\n",
    "- Coding for phenotype\n",
    "- Overview of cohort and pheno\n"
   ]
  },
  {
   "cell_type": "markdown",
   "metadata": {},
   "source": [
    "# Getting Started"
   ]
  },
  {
   "cell_type": "markdown",
   "metadata": {},
   "source": [
    "## Load Libraries"
   ]
  },
  {
   "cell_type": "code",
   "execution_count": 1,
   "metadata": {},
   "outputs": [],
   "source": [
    "# Use the os package to interact with the environment\n",
    "import os\n",
    "import sys\n",
    "\n",
    "# Bring in Pandas for Dataframe functionality\n",
    "import pandas as pd\n",
    "from functools import reduce\n",
    "\n",
    "# Bring some visualization functionality \n",
    "import seaborn as sns\n",
    "\n",
    "# numpy for basics\n",
    "import numpy as np\n",
    "\n",
    "# Use StringIO for working with file contents\n",
    "from io import StringIO\n",
    "\n",
    "# Enable IPython to display matplotlib graphs\n",
    "import matplotlib.pyplot as plt\n",
    "%matplotlib inline\n",
    "\n",
    "# Enable interaction with the FireCloud API\n",
    "from firecloud import api as fapi\n",
    "\n",
    "# Import the iPython HTML rendering for displaying links to Google Cloud Console\n",
    "from IPython.core.display import display, HTML\n",
    "\n",
    "# Import urllib modules for building URLs to Google Cloud Console\n",
    "import urllib.parse\n",
    "\n",
    "# BigQuery for querying data\n",
    "from google.cloud import bigquery"
   ]
  },
  {
   "cell_type": "markdown",
   "metadata": {},
   "source": [
    "## Create Python Functions to Interact With GCP/Terra\n",
    "Terra is an intermediate platform, designed to help the user interact with the data placed in Google Cloud buckets."
   ]
  },
  {
   "cell_type": "code",
   "execution_count": 2,
   "metadata": {},
   "outputs": [],
   "source": [
    "# Utility routine for printing a shell command before executing it\n",
    "def shell_do(command):\n",
    "    print(f'Executing: {command}', file=sys.stderr)\n",
    "    !$command\n",
    "    \n",
    "def shell_return(command):\n",
    "    print(f'Executing: {command}', file=sys.stderr)\n",
    "    output = !$command\n",
    "    return '\\n'.join(output)\n",
    "\n",
    "# Utility routine for printing a query before executing it\n",
    "def bq_query(query):\n",
    "    print(f'Executing: {query}', file=sys.stderr)\n",
    "    return pd.read_gbq(query, project_id=BILLING_PROJECT_ID, dialect='standard')\n",
    "\n",
    "# Utility routine for display a message and a link\n",
    "def display_html_link(description, link_text, url):\n",
    "    html = f'''\n",
    "    <p>\n",
    "    </p>\n",
    "    <p>\n",
    "    {description}\n",
    "    <a target=_blank href=\"{url}\">{link_text}</a>.\n",
    "    </p>\n",
    "    '''\n",
    "\n",
    "    display(HTML(html))\n",
    "\n",
    "# Utility routines for reading files from Google Cloud Storage\n",
    "def gcs_read_file(path):\n",
    "    \"\"\"Return the contents of a file in GCS\"\"\"\n",
    "    contents = !gsutil -u {BILLING_PROJECT_ID} cat {path}\n",
    "    return '\\n'.join(contents)\n",
    "    \n",
    "def gcs_read_csv(path, sep=None):\n",
    "    \"\"\"Return a DataFrame from the contents of a delimited file in GCS\"\"\"\n",
    "    return pd.read_csv(StringIO(gcs_read_file(path)), sep=sep, engine='python')\n",
    "\n",
    "# Utility routine for displaying a message and link to Cloud Console\n",
    "def link_to_cloud_console_gcs(description, link_text, gcs_path):\n",
    "    url = '{}?{}'.format(\n",
    "        os.path.join('https://console.cloud.google.com/storage/browser',\n",
    "                     gcs_path.replace(\"gs://\",\"\")),\n",
    "        urllib.parse.urlencode({'userProject': BILLING_PROJECT_ID}))\n",
    "\n",
    "    display_html_link(description, link_text, url)"
   ]
  },
  {
   "cell_type": "markdown",
   "metadata": {},
   "source": [
    "## Initialize Workspace Variables"
   ]
  },
  {
   "cell_type": "code",
   "execution_count": 3,
   "metadata": {
    "scrolled": false
   },
   "outputs": [
    {
     "name": "stdout",
     "output_type": "stream",
     "text": [
      "Billing and Workspace\n",
      "Workspace Name: GP2 Bioinformatics Course 2\n",
      "Billing Project: terra-9b559320\n",
      "Workspace Bucket, where you can upload and download data: gs://fc-c04486b2-8d7e-4359-a607-63643e9a7914\n",
      "\n",
      "AMP-PD v2.5\n",
      "Path to AMP-PD v2.5 Clinical Data: gs://amp-pd-data/releases/2021_v2-5release_0510/clinical\n",
      "Path to AMP-PD v2.5 WGS Data: gs://amp-pd-genomics/releases/2021_v2-5release_0510/wgs/plink\n",
      "\n",
      "GP2 v2.0\n",
      "Path to GP2 v2.0 Clinical Data: gs://gp2tier2/release2_06052022/clinical_data\n",
      "Path to GP2 v2.0 Raw Genotype Data: gs://gp2tier2/release2_06052022/raw_genotypes\n",
      "Path to GP2 v2.0 Imputed Genotype Data: gs://gp2tier2/release2_06052022/imputed_genotypes\n"
     ]
    }
   ],
   "source": [
    "# Set up billing project and data path variables\n",
    "BILLING_PROJECT_ID = os.environ['GOOGLE_PROJECT']\n",
    "WORKSPACE_NAMESPACE = os.environ['WORKSPACE_NAMESPACE']\n",
    "WORKSPACE_NAME = os.environ['WORKSPACE_NAME']\n",
    "WORKSPACE_BUCKET = os.environ['WORKSPACE_BUCKET']\n",
    "\n",
    "WORKSPACE_ATTRIBUTES = fapi.get_workspace(WORKSPACE_NAMESPACE, WORKSPACE_NAME).json().get('workspace',{}).get('attributes',{})\n",
    "\n",
    "## AMP-PD v2.5\n",
    "## Explicitly define release v2.5 path \n",
    "AMP_RELEASE_PATH = 'gs://amp-pd-data/releases/2021_v2-5release_0510'\n",
    "AMP_CLINICAL_RELEASE_PATH = f'{AMP_RELEASE_PATH}/clinical'\n",
    "\n",
    "AMP_WGS_RELEASE_PATH = 'gs://amp-pd-genomics/releases/2021_v2-5release_0510/wgs'\n",
    "AMP_WGS_RELEASE_PLINK_PATH = os.path.join(AMP_WGS_RELEASE_PATH, 'plink')\n",
    "AMP_WGS_RELEASE_GATK_PATH = os.path.join(AMP_WGS_RELEASE_PATH, 'gatk')\n",
    "\n",
    "## Print the information to check we are in the proper release and billing \n",
    "## This will be different for you, the user, depending on the billing project your workspace is on\n",
    "print('Billing and Workspace')\n",
    "print(f'Workspace Name: {WORKSPACE_NAME}')\n",
    "print(f'Billing Project: {BILLING_PROJECT_ID}')\n",
    "print(f'Workspace Bucket, where you can upload and download data: {WORKSPACE_BUCKET}')\n",
    "print('')\n",
    "\n",
    "print('AMP-PD v2.5')\n",
    "print(f'Path to AMP-PD v2.5 Clinical Data: {AMP_CLINICAL_RELEASE_PATH}')\n",
    "print(f'Path to AMP-PD v2.5 WGS Data: {AMP_WGS_RELEASE_PLINK_PATH}')\n",
    "print('')\n",
    "\n",
    "## GP2 v2.0\n",
    "## Explicitly define release v2.0 path \n",
    "GP2_RELEASE_PATH = 'gs://gp2tier2/release2_06052022'\n",
    "GP2_CLINICAL_RELEASE_PATH = f'{GP2_RELEASE_PATH}/clinical_data'\n",
    "GP2_META_RELEASE_PATH = f'{GP2_RELEASE_PATH}/meta_data'\n",
    "GP2_SUMSTAT_RELEASE_PATH = f'{GP2_RELEASE_PATH}/summary_statistics'\n",
    "\n",
    "GP2_RAW_GENO_PATH = f'{GP2_RELEASE_PATH}/raw_genotypes'\n",
    "GP2_IMPUTED_GENO_PATH = f'{GP2_RELEASE_PATH}/imputed_genotypes'\n",
    "print('GP2 v2.0')\n",
    "print(f'Path to GP2 v2.0 Clinical Data: {GP2_CLINICAL_RELEASE_PATH}')\n",
    "print(f'Path to GP2 v2.0 Raw Genotype Data: {GP2_RAW_GENO_PATH}')\n",
    "print(f'Path to GP2 v2.0 Imputed Genotype Data: {GP2_IMPUTED_GENO_PATH}')"
   ]
  },
  {
   "cell_type": "markdown",
   "metadata": {},
   "source": [
    "# Data Overview"
   ]
  },
  {
   "cell_type": "markdown",
   "metadata": {},
   "source": [
    "### Paths to AMP-PD Buckets \n",
    "From AMP-PD's Getting Started workspaces\n",
    "\n",
    "Raw files are stored in [Google Cloud Storage](https://cloud.google.com/storage/) buckets:\n",
    "\n",
    "- [gs://amp-pd-data](https://console.cloud.google.com/storage/browser/amp-pd-data): Clinical data files and other participant metadata\n",
    "- [gs://amp-pd-data-tier2](https://console.cloud.google.com/storage/browser/amp-pd-data-tier2): Clinically reported genetic mutations and other restricted-access participant metadata\n",
    "- [gs://amp-pd-genomics](https://console.cloud.google.com/storage/browser/amp-pd-genomics): Whole Genome sequencing CRAMs, VCFs, and metrics files\n",
    "- [gs://amp-pd-transcriptomics](https://console.cloud.google.com/storage/browser/amp-pd-transcriptomics): Transcriptomics FASTQs, BAMs, Quantification, and Feature Counts files for single samples and QC pools\n",
    "- [gs://amp-pd-proteomics](https://console.cloud.google.com/storage/browser/amp-pd-proteomics): Proteomics preview release with eight unfiltered NPX files from four separate assays for matched Plasma and CSF samples\n",
    "- More information here: https://amp-pd.org/data \n",
    "        \n",
    "### AMP-PD Bucket Structure - Overview\n",
    "\n",
    "In Tier 2, the structure looks like the following\n",
    "```\n",
    "{GS_RELEASE_PATH} @ gs://amp-pd-data/releases/2021_v2-5release_0510\n",
    "    ├── amp_pd_case_control.csv\n",
    "    ├── amp_pd_participant_wgs_duplicates.csv\n",
    "    ├── amp_pd_participants.csv\n",
    "    ├── rna_sample_inventory.csv\n",
    "    ├── wgs_gatk_joint_genotyping_samples.csv\n",
    "    ├── wgs_sample_inventory.csv\n",
    "    └── clinical/\n",
    "            └── [58 files]\n",
    "```"
   ]
  },
  {
   "cell_type": "markdown",
   "metadata": {},
   "source": [
    "### Paths to GP2 Buckets (Release 2)\n",
    "\n",
    "Raw files are stored in [Google Cloud Storage](https://cloud.google.com/storage/) buckets:\n",
    "\n",
    "#### Tier 1 \n",
    "- [gs://gp2_tier1/release2_06052022](https://console.cloud.google.com/storage/browser/gp2tier1/release2_06052022): Tier 1 Bucket\n",
    "- [gs://gp2_tier1/release2_06052022/summary_statistics/](https://console.cloud.google.com/storage/browser/gp2_tier1/release2_06052022/summary_statistics): Summary statistics \n",
    "\n",
    "#### Tier 2 \n",
    "- [gs://gp2_tier2/release2_06052022/](https://console.cloud.google.com/storage/browser/gp2tier2/release2_06052022/): Tier 2 bucket\n",
    "- [gs://gp2_tier2/release2_06052022/summary_statistics/](https://console.cloud.google.com/storage/browser/gp2tier2/release2_06052022/summary_statistics): Summary statistics \n",
    "- [gs://gp2_tier2/release2_06052022/raw_genotypes/](https://console.cloud.google.com/storage/browser/gp2tier2/release2_06052022/raw_genotypes): Raw genotypes (PLINKv2 files - pgen files broken down by ancestry)\n",
    "- [gs://gp2_tier2/release2_06052022/imputed_genotypes/](https://console.cloud.google.com/storage/browser/gp2tier2/release2_06052022/imputed_genotypes): Imputed genotypes (PLINKv2 files - pgen files broken down by ancestry)\n",
    "- [gs://gp2_tier2/release2_06052022/cnvs/](https://console.cloud.google.com/storage/browser/gp2tier2/release2_06052022/cnvs): Probabilistic estimates of copy number variation per gene \n",
    "- [gs://gp2_tier2/release2_06052022/clinical_data/](https://console.cloud.google.com/storage/browser/gp2tier2/release2_06052022/clinical_data/): Clinical data and dictionary \n",
    "- [gs://gp2_tier2/release2_06052022/meta_data/](https://console.cloud.google.com/storage/browser/gp2_tier2/release2_06052022/meta_data): Meta data (hdf5 file with QC, ancestry, principle components, etc)\n",
    "\n",
    "### GP2 Bucket Structure - Overview\n",
    "\n",
    "```\n",
    "gp2_tier1\n",
    "\t└── summary_statistics/\n",
    "\n",
    "gp2_tier2\n",
    "\t├── raw_genotypes/\n",
    "\t├── imputed_genotypes/\n",
    "\t├── cnvs/\n",
    "\t├── meta_data/\n",
    "\t├── clinical_data/\n",
    "\t└── summary_statistics/\n",
    "```\n",
    "\n",
    "**for more information, please see Modules 1 and 2 in this series!**"
   ]
  },
  {
   "cell_type": "markdown",
   "metadata": {},
   "source": [
    "# How to Pull Clinical Information From AMP-PD\n",
    "\n",
    "We went through these steps in the last module, but putting them here for clarity :) "
   ]
  },
  {
   "cell_type": "code",
   "execution_count": 4,
   "metadata": {},
   "outputs": [
    {
     "name": "stdout",
     "output_type": "stream",
     "text": [
      "Making a working directory\n"
     ]
    },
    {
     "name": "stderr",
     "output_type": "stream",
     "text": [
      "Executing: mkdir -p /home/jupyter/AMP_COV_FILE\n"
     ]
    },
    {
     "name": "stdout",
     "output_type": "stream",
     "text": [
      "List available information in AMP-PD\n"
     ]
    },
    {
     "name": "stderr",
     "output_type": "stream",
     "text": [
      "Executing: gsutil -u terra-9b559320 ls gs://amp-pd-data/releases/2021_v2-5release_0510\n"
     ]
    },
    {
     "name": "stdout",
     "output_type": "stream",
     "text": [
      "gs://amp-pd-data/releases/2021_v2-5release_0510/amp_pd_case_control.csv\n",
      "gs://amp-pd-data/releases/2021_v2-5release_0510/amp_pd_participant_wgs_duplicates.csv\n",
      "gs://amp-pd-data/releases/2021_v2-5release_0510/amp_pd_participants.csv\n",
      "gs://amp-pd-data/releases/2021_v2-5release_0510/rna_sample_inventory.csv\n",
      "gs://amp-pd-data/releases/2021_v2-5release_0510/wgs_gatk_joint_genotyping_samples.csv\n",
      "gs://amp-pd-data/releases/2021_v2-5release_0510/wgs_sample_inventory.csv\n",
      "gs://amp-pd-data/releases/2021_v2-5release_0510/clinical/\n",
      "List available clinical information in AMP-PD\n"
     ]
    },
    {
     "name": "stderr",
     "output_type": "stream",
     "text": [
      "Executing: gsutil -u terra-9b559320 ls gs://amp-pd-data/releases/2021_v2-5release_0510/clinical\n"
     ]
    },
    {
     "name": "stdout",
     "output_type": "stream",
     "text": [
      "gs://amp-pd-data/releases/2021_v2-5release_0510/clinical/Biospecimen_analyses_CSF_abeta_tau_ptau.csv\r\n",
      "gs://amp-pd-data/releases/2021_v2-5release_0510/clinical/Biospecimen_analyses_CSF_abeta_tau_ptau_dictionary.csv\r\n",
      "gs://amp-pd-data/releases/2021_v2-5release_0510/clinical/Biospecimen_analyses_CSF_beta_glucocerebrosidase.csv\r\n",
      "gs://amp-pd-data/releases/2021_v2-5release_0510/clinical/Biospecimen_analyses_CSF_beta_glucocerebrosidase_dictionary.csv\r\n",
      "gs://amp-pd-data/releases/2021_v2-5release_0510/clinical/Biospecimen_analyses_SomaLogic_plasma.csv\r\n",
      "gs://amp-pd-data/releases/2021_v2-5release_0510/clinical/Biospecimen_analyses_SomaLogic_plasma_dictionary.csv\r\n",
      "gs://amp-pd-data/releases/2021_v2-5release_0510/clinical/Biospecimen_analyses_other.csv\r\n",
      "gs://amp-pd-data/releases/2021_v2-5release_0510/clinical/Biospecimen_analyses_other_dictionary.csv\r\n",
      "gs://amp-pd-data/releases/2021_v2-5release_0510/clinical/Caffeine_history.csv\r\n",
      "gs://amp-pd-data/releases/2021_v2-5release_0510/clinical/Caffeine_history_dictionary.csv\r\n",
      "gs://amp-pd-data/releases/2021_v2-5release_0510/clinical/DTI.csv\r\n",
      "gs://amp-pd-data/releases/2021_v2-5release_0510/clinical/DTI_dictionary.csv\r\n",
      "gs://amp-pd-data/releases/2021_v2-5release_0510/clinical/DaTSCAN_SBR.csv\r\n",
      "gs://amp-pd-data/releases/2021_v2-5release_0510/clinical/DaTSCAN_SBR_dictionary.csv\r\n",
      "gs://amp-pd-data/releases/2021_v2-5release_0510/clinical/DaTSCAN_visual_interpretation.csv\r\n",
      "gs://amp-pd-data/releases/2021_v2-5release_0510/clinical/DaTSCAN_visual_interpretation_dictionary.csv\r\n",
      "gs://amp-pd-data/releases/2021_v2-5release_0510/clinical/Demographics.csv\r\n",
      "gs://amp-pd-data/releases/2021_v2-5release_0510/clinical/Demographics_dictionary.csv\r\n",
      "gs://amp-pd-data/releases/2021_v2-5release_0510/clinical/Enrollment.csv\r\n",
      "gs://amp-pd-data/releases/2021_v2-5release_0510/clinical/Enrollment_dictionary.csv\r\n",
      "gs://amp-pd-data/releases/2021_v2-5release_0510/clinical/Epworth_Sleepiness_Scale.csv\r\n",
      "gs://amp-pd-data/releases/2021_v2-5release_0510/clinical/Epworth_Sleepiness_Scale_dictionary.csv\r\n",
      "gs://amp-pd-data/releases/2021_v2-5release_0510/clinical/Family_History_PD.csv\r\n",
      "gs://amp-pd-data/releases/2021_v2-5release_0510/clinical/Family_History_PD_dictionary.csv\r\n",
      "gs://amp-pd-data/releases/2021_v2-5release_0510/clinical/LBD_Cohort_Clinical_Data.csv\r\n",
      "gs://amp-pd-data/releases/2021_v2-5release_0510/clinical/LBD_Cohort_Clinical_Data_dictionary.csv\r\n",
      "gs://amp-pd-data/releases/2021_v2-5release_0510/clinical/LBD_Cohort_Path_Data.csv\r\n",
      "gs://amp-pd-data/releases/2021_v2-5release_0510/clinical/LBD_Cohort_Path_Data_dictionary.csv\r\n",
      "gs://amp-pd-data/releases/2021_v2-5release_0510/clinical/MDS_UPDRS_Part_I.csv\r\n",
      "gs://amp-pd-data/releases/2021_v2-5release_0510/clinical/MDS_UPDRS_Part_II.csv\r\n",
      "gs://amp-pd-data/releases/2021_v2-5release_0510/clinical/MDS_UPDRS_Part_III.csv\r\n",
      "gs://amp-pd-data/releases/2021_v2-5release_0510/clinical/MDS_UPDRS_Part_III_dictionary.csv\r\n",
      "gs://amp-pd-data/releases/2021_v2-5release_0510/clinical/MDS_UPDRS_Part_II_dictionary.csv\r\n",
      "gs://amp-pd-data/releases/2021_v2-5release_0510/clinical/MDS_UPDRS_Part_IV.csv\r\n",
      "gs://amp-pd-data/releases/2021_v2-5release_0510/clinical/MDS_UPDRS_Part_IV_dictionary.csv\r\n",
      "gs://amp-pd-data/releases/2021_v2-5release_0510/clinical/MDS_UPDRS_Part_I_dictionary.csv\r\n",
      "gs://amp-pd-data/releases/2021_v2-5release_0510/clinical/MMSE_corrected_20220506.csv\r\n",
      "gs://amp-pd-data/releases/2021_v2-5release_0510/clinical/MMSE_dictionary.csv\r\n",
      "gs://amp-pd-data/releases/2021_v2-5release_0510/clinical/MMSE_retracted.csv\r\n",
      "gs://amp-pd-data/releases/2021_v2-5release_0510/clinical/MOCA.csv\r\n",
      "gs://amp-pd-data/releases/2021_v2-5release_0510/clinical/MOCA_dictionary.csv\r\n",
      "gs://amp-pd-data/releases/2021_v2-5release_0510/clinical/MRI.csv\r\n",
      "gs://amp-pd-data/releases/2021_v2-5release_0510/clinical/MRI_dictionary.csv\r\n",
      "gs://amp-pd-data/releases/2021_v2-5release_0510/clinical/Modified_Schwab___England_ADL.csv\r\n",
      "gs://amp-pd-data/releases/2021_v2-5release_0510/clinical/Modified_Schwab___England_ADL_dictionary.csv\r\n",
      "gs://amp-pd-data/releases/2021_v2-5release_0510/clinical/PDQ_39.csv\r\n",
      "gs://amp-pd-data/releases/2021_v2-5release_0510/clinical/PDQ_39_dictionary.csv\r\n",
      "gs://amp-pd-data/releases/2021_v2-5release_0510/clinical/PD_Medical_History.csv\r\n",
      "gs://amp-pd-data/releases/2021_v2-5release_0510/clinical/PD_Medical_History_dictionary.csv\r\n",
      "gs://amp-pd-data/releases/2021_v2-5release_0510/clinical/REM_Sleep_Behavior_Disorder_Questionnaire_Mayo.csv\r\n",
      "gs://amp-pd-data/releases/2021_v2-5release_0510/clinical/REM_Sleep_Behavior_Disorder_Questionnaire_Mayo_dictionary.csv\r\n",
      "gs://amp-pd-data/releases/2021_v2-5release_0510/clinical/REM_Sleep_Behavior_Disorder_Questionnaire_Stiasny_Kolster.csv\r\n",
      "gs://amp-pd-data/releases/2021_v2-5release_0510/clinical/REM_Sleep_Behavior_Disorder_Questionnaire_Stiasny_Kolster_dictionary.csv\r\n",
      "gs://amp-pd-data/releases/2021_v2-5release_0510/clinical/Smoking_and_alcohol_history.csv\r\n",
      "gs://amp-pd-data/releases/2021_v2-5release_0510/clinical/Smoking_and_alcohol_history_dictionary.csv\r\n",
      "gs://amp-pd-data/releases/2021_v2-5release_0510/clinical/UPDRS.csv\r\n",
      "gs://amp-pd-data/releases/2021_v2-5release_0510/clinical/UPDRS_dictionary.csv\r\n",
      "gs://amp-pd-data/releases/2021_v2-5release_0510/clinical/UPSIT.csv\r\n",
      "gs://amp-pd-data/releases/2021_v2-5release_0510/clinical/UPSIT_dictionary.csv\r\n"
     ]
    }
   ],
   "source": [
    "# Create a folder on your workspace to copy to \n",
    "print(\"Making a working directory\")\n",
    "WORK_DIR = f'/home/jupyter/AMP_COV_FILE'\n",
    "shell_do(f'mkdir -p {WORK_DIR}')\n",
    "\n",
    "# Check directories where AMP-PD data are \n",
    "print(\"List available information in AMP-PD\")\n",
    "shell_do(f'gsutil -u {BILLING_PROJECT_ID} ls {AMP_RELEASE_PATH}')\n",
    "\n",
    "print(\"List available clinical information in AMP-PD\")\n",
    "shell_do(f'gsutil -u {BILLING_PROJECT_ID} ls {AMP_CLINICAL_RELEASE_PATH}')"
   ]
  },
  {
   "cell_type": "code",
   "execution_count": 5,
   "metadata": {},
   "outputs": [
    {
     "name": "stdout",
     "output_type": "stream",
     "text": [
      "Copy over files from bucket to VM workspace\n",
      "WARNING! This VM, when deleted, deletes all data copied over to it\n",
      "If you want to store results or files long-term, copy them to your bucket (more in Modules 5 and 6)\n"
     ]
    },
    {
     "name": "stderr",
     "output_type": "stream",
     "text": [
      "Executing: gsutil -u terra-9b559320 -m cp -r gs://amp-pd-data/releases/2021_v2-5release_0510/amp_pd_case_control.csv /home/jupyter/AMP_COV_FILE\n"
     ]
    },
    {
     "name": "stdout",
     "output_type": "stream",
     "text": [
      "Copying gs://amp-pd-data/releases/2021_v2-5release_0510/amp_pd_case_control.csv...\n",
      "/ [1/1 files][732.1 KiB/732.1 KiB] 100% Done                                    \n",
      "Operation completed over 1 objects/732.1 KiB.                                    \n"
     ]
    },
    {
     "name": "stderr",
     "output_type": "stream",
     "text": [
      "Executing: gsutil -u terra-9b559320 -m cp -r gs://amp-pd-data/releases/2021_v2-5release_0510/clinical/Enrollment.csv /home/jupyter/AMP_COV_FILE\n"
     ]
    },
    {
     "name": "stdout",
     "output_type": "stream",
     "text": [
      "Copying gs://amp-pd-data/releases/2021_v2-5release_0510/clinical/Enrollment.csv...\n",
      "/ [1/1 files][632.4 KiB/632.4 KiB] 100% Done                                    \n",
      "Operation completed over 1 objects/632.4 KiB.                                    \n"
     ]
    },
    {
     "name": "stderr",
     "output_type": "stream",
     "text": [
      "Executing: gsutil -u terra-9b559320 -m cp -r gs://amp-pd-data/releases/2021_v2-5release_0510/clinical/Demographics.csv /home/jupyter/AMP_COV_FILE\n"
     ]
    },
    {
     "name": "stdout",
     "output_type": "stream",
     "text": [
      "Copying gs://amp-pd-data/releases/2021_v2-5release_0510/clinical/Demographics.csv...\n",
      "/ [1/1 files][635.3 KiB/635.3 KiB] 100% Done                                    \n",
      "Operation completed over 1 objects/635.3 KiB.                                    \n"
     ]
    }
   ],
   "source": [
    "# An example to copy files to your from your bucket workspace to your notebook workspace\n",
    "print(\"Copy over files from bucket to VM workspace\")\n",
    "print(\"WARNING! This VM, when deleted, deletes all data copied over to it\")\n",
    "print(\"If you want to store results or files long-term, copy them to your bucket (more in Modules 5 and 6)\")\n",
    "\n",
    "shell_do(f'gsutil -u {BILLING_PROJECT_ID} -m cp -r {AMP_RELEASE_PATH}/amp_pd_case_control.csv {WORK_DIR}')\n",
    "shell_do(f'gsutil -u {BILLING_PROJECT_ID} -m cp -r {AMP_CLINICAL_RELEASE_PATH}/Enrollment.csv {WORK_DIR}')\n",
    "shell_do(f'gsutil -u {BILLING_PROJECT_ID} -m cp -r {AMP_CLINICAL_RELEASE_PATH}/Demographics.csv {WORK_DIR}')"
   ]
  },
  {
   "cell_type": "markdown",
   "metadata": {},
   "source": [
    "As you can see...\n",
    "- AMP keeps the phenotype information in a different bucket `{AMP_RELEASE_PATH}/amp_pd_case_control.csv`\n",
    "- there's a variety of information captured in `{AMP_CLINICAL_RELEASE_PATH}` like demographic information, UPDRS scores, RBD Questionnaire, DaTSCAN... we just copied over enrollment and demographic information\n",
    "- Related individuals are still present here"
   ]
  },
  {
   "cell_type": "markdown",
   "metadata": {},
   "source": [
    "# Making a Very Basic Covariate File From AMP-PD Data"
   ]
  },
  {
   "cell_type": "markdown",
   "metadata": {},
   "source": [
    "## Most Recent Diagnosis and Case/Control Assignment"
   ]
  },
  {
   "cell_type": "code",
   "execution_count": 6,
   "metadata": {},
   "outputs": [],
   "source": [
    "# Read in the clinical information\n",
    "pd_case_control_df = pd.read_csv(f'{WORK_DIR}/amp_pd_case_control.csv')\n",
    "\n",
    "# Uncomment the following line to look at the dataframe\n",
    "#pd_case_control_df.head()"
   ]
  },
  {
   "cell_type": "markdown",
   "metadata": {},
   "source": [
    "For analyses, it's generally good practice to keep the latest diagnosis per individual to account for possible misdiagnosis early on in disease onset.\n",
    "\n",
    "You can subset and only latest diagnosis by doing the following:"
   ]
  },
  {
   "cell_type": "code",
   "execution_count": 7,
   "metadata": {},
   "outputs": [
    {
     "name": "stdout",
     "output_type": "stream",
     "text": [
      "Control    4312\n",
      "Case       3527\n",
      "Other      2933\n",
      "Name: CASE_CONTROL, dtype: int64\n"
     ]
    }
   ],
   "source": [
    "# Subsetting to keep only a few columns \n",
    "pd_case_control_latest_df = pd_case_control_df[['participant_id', 'diagnosis_latest', 'case_control_other_latest']].copy()\n",
    "\n",
    "# Renaming the columns \n",
    "pd_case_control_latest_df.columns = ['ID', 'LATEST_DX', 'CASE_CONTROL']\n",
    "\n",
    "# Printing a few numbers to get an overview of how many cases, controls, and other phenotypes listed in the AMP-PD data\n",
    "print(pd_case_control_latest_df['CASE_CONTROL'].value_counts())"
   ]
  },
  {
   "cell_type": "code",
   "execution_count": 8,
   "metadata": {},
   "outputs": [
    {
     "name": "stdout",
     "output_type": "stream",
     "text": [
      "No PD Nor Other Neurological Disorder        4312\n",
      "LBD                                          2614\n",
      "Parkinson's Disease                          2392\n",
      "Idiopathic PD                                1135\n",
      "Multiple System Atrophy                        71\n",
      "Progressive Supranuclear Palsy                 61\n",
      "Essential Tremor                               47\n",
      "Prodromal non-motor PD                         36\n",
      "Prodromal motor PD                             36\n",
      "Other Neurological Disorder(s)                 30\n",
      "Dementia With Lewy Bodies                      14\n",
      "Corticobasal Degeneration                       8\n",
      "Neuroleptic-Induced Parkinsonism                3\n",
      "Parkinsonism                                    3\n",
      "Possible Alzheimer's Disease                    3\n",
      "Vascular Parkinsonism                           2\n",
      "Fahr's Syndrome                                 1\n",
      "Alzheimer's Disease                             1\n",
      "Psychogenic Illness                             1\n",
      "Juvenile Autosomal Recessive Parkinsonism       1\n",
      "Olivopontocerebellar Atrophy                    1\n",
      "Name: LATEST_DX, dtype: int64\n"
     ]
    }
   ],
   "source": [
    "# Print an overview of the latest diagnosis column\n",
    "print(pd_case_control_latest_df['LATEST_DX'].value_counts())"
   ]
  },
  {
   "cell_type": "markdown",
   "metadata": {},
   "source": [
    "### Cohort Information \n",
    "\n",
    "Let's make a column of just COHORT names, so your analyses can be adjusted by the cohort they came from. \n",
    "\n",
    "AMP-PD uses the following naming convention: \n",
    "- Samples with the `LB-` prefix come from the **LBD** cohort; more information [here](https://amp-pd.org/unified-cohorts/lbd)\n",
    "- Samples with the `PP-` prefix come from the **PPMI** cohort; more information [here](https://amp-pd.org/unified-cohorts/ppmi)\n",
    "- Samples with the `PD-` prefix come from the **PDBP** cohort; more information [here](https://amp-pd.org/unified-cohorts/pdbp)\n",
    "- Samples with the `HB-` prefix come from the **HBS** cohort; more information [here](https://amp-pd.org/unified-cohorts/hbs)\n",
    "- Samples with the `LC-` prefix come from the **LCC** cohort; more information [here](https://amp-pd.org/unified-cohorts/llc)\n",
    "- Samples with the `BF-` prefix come from the **BioFIND** cohort; more information [here](https://amp-pd.org/unified-cohorts/biofind)\n",
    "- Samples with the `SU-` prefix come from the **SURE-PD3** cohort; more information [here](https://amp-pd.org/unified-cohorts/sure-pd3)\n",
    "- Samples with the `SY-` prefix come from the **STEADY-PD3** cohort; more information [here](https://amp-pd.org/unified-cohorts/steady-pd-3)"
   ]
  },
  {
   "cell_type": "code",
   "execution_count": 9,
   "metadata": {},
   "outputs": [],
   "source": [
    "# Add cohort column based on study prefix (Numpy's NAN for anything missing - though nothing should be missing)\n",
    "pd_case_control_latest_df['COHORT']= np.where(pd_case_control_latest_df.ID.str.contains(\"LB-\"), \"LBD\",\n",
    "                                    np.where(pd_case_control_latest_df.ID.str.contains(\"PP-\"), \"PPMI\",\n",
    "                                    np.where(pd_case_control_latest_df.ID.str.contains(\"PD-\"), \"PDBP\",\n",
    "                                    np.where(pd_case_control_latest_df.ID.str.contains(\"HB-\"), \"HBS\",\n",
    "                                    np.where(pd_case_control_latest_df.ID.str.contains(\"LC-\"), \"LCC\",\n",
    "                                    np.where(pd_case_control_latest_df.ID.str.contains(\"BF-\"), \"BIOFIND\",\n",
    "                                    np.where(pd_case_control_latest_df.ID.str.contains(\"SU-\"), \"SURE-PD3\",\n",
    "                                    np.where(pd_case_control_latest_df.ID.str.contains(\"SY-\"), \"STEADY-PD3\", np.nan))))))))"
   ]
  },
  {
   "cell_type": "code",
   "execution_count": 10,
   "metadata": {},
   "outputs": [],
   "source": [
    "# Look at the abbreviated dataframe \n",
    "#pd_case_control_latest_df.head()"
   ]
  },
  {
   "cell_type": "markdown",
   "metadata": {},
   "source": [
    "### Phenotype\n",
    "Here, we will add a **phenotype column** based on the case/control column "
   ]
  },
  {
   "cell_type": "code",
   "execution_count": 10,
   "metadata": {},
   "outputs": [
    {
     "name": "stdout",
     "output_type": "stream",
     "text": [
      " 1    4312\n",
      " 2    3527\n",
      "-9    2933\n",
      "Name: PHENO, dtype: int64\n",
      "(10772, 4)\n"
     ]
    }
   ],
   "source": [
    "# Add PHENO\n",
    "case_con_reduced = pd_case_control_latest_df.copy()\n",
    "case_con_reduced.drop_duplicates(subset=['ID'], inplace=True)\n",
    "\n",
    "## Outline the conditions \n",
    "conditions = [\n",
    "    (case_con_reduced['CASE_CONTROL'] == \"Case\"),\n",
    "    (case_con_reduced['CASE_CONTROL'] == \"Control\")]\n",
    "\n",
    "## Assign conditions so case=2 and controls=1, and -9 otherwise (matching PLINK convention)\n",
    "choices = [2,1]\n",
    "case_con_reduced['PHENO'] = np.select(conditions, choices, default=-9).astype(np.int64)\n",
    "\n",
    "# Clean up dataframe (reset the index)\n",
    "case_con_reduced.reset_index(inplace=True)\n",
    "case_con_reduced.drop(columns=[\"index\"], inplace=True)\n",
    "\n",
    "# Drop the case/control categorical column \n",
    "case_con_reduced.drop(columns=['CASE_CONTROL'], inplace=True)\n",
    "\n",
    "# Print out the PHENO counts\n",
    "print(case_con_reduced['PHENO'].value_counts(dropna=False))\n",
    "\n",
    "# Print the size of the dataframes (# rows, # columns)\n",
    "print(case_con_reduced.shape)"
   ]
  },
  {
   "cell_type": "markdown",
   "metadata": {},
   "source": [
    "This shows that we have about\n",
    "- 4,312 controls; matching the number of `No PD Nor Other Neurological Disorder`\n",
    "- 3,527 cases; matching the number of `Parkinson's Disease` and `Idiopathic PD` counts listed in the case/control file\n",
    "- 2,933 \"other\" phenotypes (please see above for an overview of these, the majority being `LBD`)\n",
    "\n",
    "\n",
    "We will leave in the latest diagnosis as a categorical variable, in case you want to recode the PHENO column to something other than PD cases and controls or subset for downstream analyses.\n",
    "\n",
    "\n",
    "This is a good start, but let's add some more information..."
   ]
  },
  {
   "cell_type": "markdown",
   "metadata": {},
   "source": [
    "## Enrollment Data\n",
    "This step is to extract the enrollment information per patient, such as if they were prodromal or part of a genetic ancestry"
   ]
  },
  {
   "cell_type": "code",
   "execution_count": 11,
   "metadata": {},
   "outputs": [
    {
     "name": "stdout",
     "output_type": "stream",
     "text": [
      "Healthy Control                3377\n",
      "PD                             2705\n",
      "LBD                            2521\n",
      "Genetic Cohort Unaffected       403\n",
      "Genetic Cohort PD               272\n",
      "Genetic Registry Unaffected     245\n",
      "Genetic Registry PD             196\n",
      "Disease Control                 159\n",
      "SWEDD                            77\n",
      "Prodromal                        64\n",
      "NaN                               3\n",
      "Unknown                           1\n",
      "Name: ENROLL_STUDY_ARM, dtype: int64\n",
      "(10023, 2)\n"
     ]
    }
   ],
   "source": [
    "# Let's load in the Enrollment.csv as a dataframe\n",
    "enrollment_df = pd.read_csv(f'{WORK_DIR}/Enrollment.csv')\n",
    "\n",
    "# Subset a few key columns \n",
    "enrollment_subset_df = enrollment_df[['participant_id', 'study_arm']].copy()\n",
    "\n",
    "# and rename them to merge them easily later\n",
    "enrollment_subset_df.columns = ['ID', 'ENROLL_STUDY_ARM']\n",
    "\n",
    "# Let's drop any repeated IDs at this stage \n",
    "enrollment_subset_df.drop_duplicates(subset=['ID'], keep='first', inplace=True)\n",
    "\n",
    "# Print the different study arms captured in AMP-PD\n",
    "print(enrollment_subset_df['ENROLL_STUDY_ARM'].value_counts(dropna=False))\n",
    "\n",
    "# Print the size of the dataframe (# rows, # columns)\n",
    "print(enrollment_subset_df.shape)"
   ]
  },
  {
   "cell_type": "code",
   "execution_count": 12,
   "metadata": {},
   "outputs": [],
   "source": [
    "# Have a glance at what the dataframe looks like now \n",
    "#enrollment_subset_df.head()"
   ]
  },
  {
   "cell_type": "markdown",
   "metadata": {},
   "source": [
    "We will leave this column as categorical, as before analyses you might want to subset specific special cases (such as those involved in a genetic registry) to be analyzed separately. "
   ]
  },
  {
   "cell_type": "markdown",
   "metadata": {},
   "source": [
    "## Demographics Data\n",
    "\n",
    "There's a lot of information here, but we will pull out sex and code it (1=Male, 2=Female)"
   ]
  },
  {
   "cell_type": "code",
   "execution_count": 19,
   "metadata": {},
   "outputs": [],
   "source": [
    "# Let's load in the medical history as a dataframe \n",
    "demographics_df = pd.read_csv(f'{WORK_DIR}/Demographics.csv')\n",
    "\n",
    "# Rename the columns for ease of merging later \n",
    "demographics_df.rename(columns = {'participant_id':'ID'}, inplace = True)\n",
    "demographics_df.rename(columns = {'age_at_baseline':'BASELINE_AGE'}, inplace = True)\n",
    "demographics_df.rename(columns = {'race':'RACE'}, inplace = True)\n",
    "\n",
    "# Have a glance at the dataframe \n",
    "#demographics_df.head()"
   ]
  },
  {
   "cell_type": "code",
   "execution_count": 20,
   "metadata": {},
   "outputs": [],
   "source": [
    "\n",
    "# Sort by visit month, and drop duplicate IDs (therefore dropping subsequent follow-ups)\n",
    "demographics_baseline_df = demographics_df \\\n",
    ".sort_values('visit_month', ascending=True) \\\n",
    ".drop_duplicates('ID').sort_index()\n",
    "\n",
    "# Merge most recent case/control assignment to the demographics so we can subset by case/control\n",
    "demographics_df_casecon = demographics_df.merge(case_con_reduced, on='ID', how='outer')\n",
    "\n",
    "# Look at the new merged dataframe\n",
    "#demographics_df_casecon.head()"
   ]
  },
  {
   "cell_type": "code",
   "execution_count": 21,
   "metadata": {},
   "outputs": [],
   "source": [
    "# Code the different sexes\n",
    "conditions = [\n",
    "     (demographics_df_casecon['sex'] == \"Male\"),\n",
    "     (demographics_df_casecon['sex'] == \"Female\")]\n",
    "\n",
    "# 1=male; 2=female\n",
    "choices = [1,2]\n",
    "\n",
    "# Make new quantitative column \n",
    "demographics_df_casecon['SEX'] = np.select(conditions, choices, default=None).astype(np.int64)\n",
    "\n",
    "# Drop the categorical column\n",
    "#demographics_df_casecon.drop(columns=['sex'], inplace=True)"
   ]
  },
  {
   "cell_type": "code",
   "execution_count": 22,
   "metadata": {},
   "outputs": [],
   "source": [
    "# Have a look at the data\n",
    "#demographics_df_casecon.head()"
   ]
  },
  {
   "cell_type": "code",
   "execution_count": 23,
   "metadata": {},
   "outputs": [],
   "source": [
    "## Keep the columns of interest \n",
    "demographics_df_casecon_toKeep = demographics_df_casecon[['ID', 'PHENO', 'SEX', 'RACE',\n",
    "                                                          'BASELINE_AGE', 'LATEST_DX',\n",
    "                                                          'COHORT']].copy()\n",
    "#demographics_df_casecon_toKeep.head()"
   ]
  },
  {
   "cell_type": "markdown",
   "metadata": {},
   "source": [
    "## Merging with the Enrollment Arm Information"
   ]
  },
  {
   "cell_type": "code",
   "execution_count": 24,
   "metadata": {},
   "outputs": [],
   "source": [
    "# Merge the cleaned PHENO file with the enrollment information \n",
    "enrollment_pheno_df = demographics_df_casecon_toKeep.merge(enrollment_subset_df, on='ID', how='outer')\n",
    "\n",
    "# Make FID column \n",
    "enrollment_pheno_df['FID'] = enrollment_pheno_df['ID'].values \n",
    "\n",
    "# Rename ID to IID \n",
    "enrollment_pheno_df.rename(columns = {'ID':'IID'}, inplace = True)\n",
    "\n",
    "# Reorder dataframe\n",
    "reorder_enrollment_pheno_df = enrollment_pheno_df[['FID', 'IID', 'PHENO',\n",
    "                                                  'SEX', 'RACE', 'BASELINE_AGE', 'LATEST_DX',\n",
    "                                                  'COHORT', 'ENROLL_STUDY_ARM']].copy()\n",
    "\n",
    "# Glance at the merged dataframe\n",
    "#reorder_enrollment_pheno_df.head()"
   ]
  },
  {
   "cell_type": "markdown",
   "metadata": {},
   "source": [
    "## Cohort and Case Overview "
   ]
  },
  {
   "cell_type": "code",
   "execution_count": 25,
   "metadata": {},
   "outputs": [
    {
     "data": {
      "text/plain": [
       "COHORT      ENROLL_STUDY_ARM             PHENO\n",
       "BIOFIND     Healthy Control               1         89\n",
       "                                         -9          6\n",
       "            PD                            2        118\n",
       "HBS         Healthy Control               1        537\n",
       "            PD                            2        649\n",
       "LBD         Healthy Control               1       1972\n",
       "            LBD                          -9       2521\n",
       "PDBP        Disease Control              -9        155\n",
       "                                          2          3\n",
       "                                          1          1\n",
       "            Healthy Control               1        542\n",
       "                                         -9          1\n",
       "            PD                            2        873\n",
       "                                         -9         13\n",
       "            Unknown                       2          1\n",
       "PPMI        Genetic Cohort PD             2        267\n",
       "                                         -9          4\n",
       "                                          1          1\n",
       "            Genetic Cohort Unaffected     1        338\n",
       "                                         -9         44\n",
       "                                          2         21\n",
       "            Genetic Registry PD           2        196\n",
       "            Genetic Registry Unaffected   1        226\n",
       "                                         -9         16\n",
       "                                          2          3\n",
       "            Healthy Control               1        218\n",
       "                                         -9          8\n",
       "                                          2          4\n",
       "            PD                            2        445\n",
       "                                         -9         13\n",
       "            Prodromal                    -9         45\n",
       "                                          2         15\n",
       "                                          1          4\n",
       "            SWEDD                         2         66\n",
       "                                         -9          9\n",
       "                                          1          2\n",
       "STEADY-PD3  PD                            2        332\n",
       "                                         -9          1\n",
       "SURE-PD3    PD                            2        261\n",
       "Name: PHENO, dtype: int64"
      ]
     },
     "execution_count": 25,
     "metadata": {},
     "output_type": "execute_result"
    }
   ],
   "source": [
    "# Get an overview of number of cases and controls per cohort \n",
    "reorder_enrollment_pheno_df.groupby(['COHORT','ENROLL_STUDY_ARM'])['PHENO'].value_counts()"
   ]
  },
  {
   "cell_type": "markdown",
   "metadata": {},
   "source": [
    "## Age Distribution Overview\n",
    "Let's see the distribution of age at baseline for cases only"
   ]
  },
  {
   "cell_type": "code",
   "execution_count": 26,
   "metadata": {},
   "outputs": [
    {
     "data": {
      "text/plain": [
       "<AxesSubplot:xlabel='BASELINE_AGE', ylabel='Count'>"
      ]
     },
     "execution_count": 26,
     "metadata": {},
     "output_type": "execute_result"
    },
    {
     "data": {
      "image/png": "[encoded data removed]",
      "text/plain": [
       "<Figure size 432x288 with 1 Axes>"
      ]
     },
     "metadata": {
      "needs_background": "light"
     },
     "output_type": "display_data"
    }
   ],
   "source": [
    "cases_df = reorder_enrollment_pheno_df.query('PHENO==2')['BASELINE_AGE']\n",
    "cases_df.head()\n",
    "sns.histplot(cases_df, bins=10)"
   ]
  },
  {
   "cell_type": "markdown",
   "metadata": {},
   "source": [
    "## Race Overview "
   ]
  },
  {
   "cell_type": "code",
   "execution_count": 27,
   "metadata": {},
   "outputs": [
    {
     "data": {
      "text/plain": [
       "RACE                                       PHENO  SEX\n",
       "American Indian or Alaska Native            1     1         1\n",
       "                                                  2         1\n",
       "                                            2     1         3\n",
       "Arab                                        2     1         2\n",
       "Asian                                      -9     1         1\n",
       "                                                  2         1\n",
       "                                            1     2         7\n",
       "                                                  1         2\n",
       "                                            2     1        24\n",
       "                                                  2        13\n",
       "Black or African American                  -9     1         5\n",
       "                                                  2         1\n",
       "                                            1     2        47\n",
       "                                                  1        31\n",
       "                                            2     2        24\n",
       "                                                  1        22\n",
       "Multiracial                                -9     2         2\n",
       "                                                  1         1\n",
       "                                            1     2        29\n",
       "                                                  1         8\n",
       "                                            2     2        28\n",
       "                                                  1        26\n",
       "Native Hawaiian or Other Pacific Islander   1     2        12\n",
       "                                                  1         3\n",
       "                                            2     1         1\n",
       "                                                  2         1\n",
       "Other                                      -9     2         1\n",
       "                                            1     1         2\n",
       "                                                  2         2\n",
       "                                            2     1        13\n",
       "                                                  2         8\n",
       "Unknown                                    -9     1         7\n",
       "                                                  2         1\n",
       "                                            1     1         6\n",
       "                                                  2         4\n",
       "                                            2     1        12\n",
       "                                                  2        11\n",
       "White                                      -9     1      1827\n",
       "                                                  2      1086\n",
       "                                            1     2      2364\n",
       "                                                  1      1977\n",
       "                                            2     1      2213\n",
       "                                                  2      1377\n",
       "Name: SEX, dtype: int64"
      ]
     },
     "execution_count": 27,
     "metadata": {},
     "output_type": "execute_result"
    }
   ],
   "source": [
    "reorder_enrollment_pheno_df.groupby(['RACE', 'PHENO'])['SEX'].value_counts()"
   ]
  },
  {
   "cell_type": "markdown",
   "metadata": {},
   "source": [
    "## All done! You've just made a small covariate file with the AMP-PD Data!"
   ]
  },
  {
   "cell_type": "markdown",
   "metadata": {},
   "source": [
    "# How to Pull Clinical Information From GP2\n",
    "\n",
    "GP2 only has one clinical file so far, so it's a little easier to work with\n",
    "\n",
    "It's important to note AMP-PD and GP2 don't have similar structures, so you need to spend time looking for what you need."
   ]
  },
  {
   "cell_type": "code",
   "execution_count": 28,
   "metadata": {},
   "outputs": [
    {
     "name": "stderr",
     "output_type": "stream",
     "text": [
      "Executing: gsutil -u terra-9b559320 ls gs://gp2tier2/release2_06052022/clinical_data\n"
     ]
    },
    {
     "name": "stdout",
     "output_type": "stream",
     "text": [
      "gs://gp2tier2/release2_06052022/clinical_data/master_key_release2_final.csv\r\n",
      "gs://gp2tier2/release2_06052022/clinical_data/release2_26042022_data_dictionary.csv\r\n"
     ]
    }
   ],
   "source": [
    "shell_do(f'gsutil -u {BILLING_PROJECT_ID} ls {GP2_CLINICAL_RELEASE_PATH}')"
   ]
  },
  {
   "cell_type": "code",
   "execution_count": 29,
   "metadata": {},
   "outputs": [
    {
     "name": "stdout",
     "output_type": "stream",
     "text": [
      "Making a working directory\n"
     ]
    },
    {
     "name": "stderr",
     "output_type": "stream",
     "text": [
      "Executing: mkdir -p /home/jupyter/GP2_COV_FILE\n"
     ]
    }
   ],
   "source": [
    "# Create a folder on your workspace to copy to \n",
    "print(\"Making a working directory\")\n",
    "WORK_DIR = f'/home/jupyter/GP2_COV_FILE'\n",
    "shell_do(f'mkdir -p {WORK_DIR}')"
   ]
  },
  {
   "cell_type": "code",
   "execution_count": 30,
   "metadata": {},
   "outputs": [
    {
     "name": "stdout",
     "output_type": "stream",
     "text": [
      "Copy over files from bucket to VM workspace\n",
      "WARNING! This VM, when deleted, deletes all data copied over to it\n",
      "If you want to store results or files long-term, copy them to your bucket (more in Modules 5 and 6)\n"
     ]
    },
    {
     "name": "stderr",
     "output_type": "stream",
     "text": [
      "Executing: gsutil -u terra-9b559320 -m cp -r gs://gp2tier2/release2_06052022/clinical_data/master_key_release2_final.csv /home/jupyter/GP2_COV_FILE\n"
     ]
    },
    {
     "name": "stdout",
     "output_type": "stream",
     "text": [
      "Copying gs://gp2tier2/release2_06052022/clinical_data/master_key_release2_final.csv...\n",
      "/ [1/1 files][656.7 KiB/656.7 KiB] 100% Done                                    \n",
      "Operation completed over 1 objects/656.7 KiB.                                    \n"
     ]
    },
    {
     "name": "stderr",
     "output_type": "stream",
     "text": [
      "Executing: gsutil -u terra-9b559320 -m cp -r gs://gp2tier2/release2_06052022/clinical_data/release2_26042022_data_dictionary.csv /home/jupyter/GP2_COV_FILE\n"
     ]
    },
    {
     "name": "stdout",
     "output_type": "stream",
     "text": [
      "Copying gs://gp2tier2/release2_06052022/clinical_data/release2_26042022_data_dictionary.csv...\n",
      "/ [1/1 files][  1.5 KiB/  1.5 KiB] 100% Done                                    \n",
      "Operation completed over 1 objects/1.5 KiB.                                      \n"
     ]
    }
   ],
   "source": [
    "print(\"Copy over files from bucket to VM workspace\")\n",
    "print(\"WARNING! This VM, when deleted, deletes all data copied over to it\")\n",
    "print(\"If you want to store results or files long-term, copy them to your bucket (more in Modules 5 and 6)\")\n",
    "\n",
    "shell_do(f'gsutil -u {BILLING_PROJECT_ID} -m cp -r {GP2_CLINICAL_RELEASE_PATH}/master_key_release2_final.csv {WORK_DIR}')\n",
    "shell_do(f'gsutil -u {BILLING_PROJECT_ID} -m cp -r {GP2_CLINICAL_RELEASE_PATH}/release2_26042022_data_dictionary.csv {WORK_DIR}')"
   ]
  },
  {
   "cell_type": "markdown",
   "metadata": {},
   "source": [
    "# Making a Very Basic Covariate File From GP2 Data\n",
    "- Related individuals are still present here"
   ]
  },
  {
   "cell_type": "code",
   "execution_count": 31,
   "metadata": {},
   "outputs": [],
   "source": [
    "# Let's load in the medical history as a dataframe \n",
    "gp2_clinical_df = pd.read_csv(f'{WORK_DIR}/master_key_release2_final.csv')\n",
    "\n",
    "# Have a look at the dataframe\n",
    "#gp2_clinical_df.head()"
   ]
  },
  {
   "cell_type": "code",
   "execution_count": 32,
   "metadata": {},
   "outputs": [
    {
     "data": {
      "text/plain": [
       "Index(['GP2ID', 'GP2sampleID', 'manifest_id', 'Phenotype', 'sex_for_qc', 'age',\n",
       "       'age_of_onset', 'age_at_diagnosis', 'age_at_death', 'race_for_qc',\n",
       "       'family_history_for_qc', 'region_for_qc'],\n",
       "      dtype='object')"
      ]
     },
     "execution_count": 32,
     "metadata": {},
     "output_type": "execute_result"
    }
   ],
   "source": [
    "# Print out the columns \n",
    "gp2_clinical_df.columns"
   ]
  },
  {
   "cell_type": "code",
   "execution_count": 33,
   "metadata": {},
   "outputs": [],
   "source": [
    "## For example, let's keep only a handful of information \n",
    "gp2_data_toKeep_df = gp2_clinical_df[['GP2sampleID',\n",
    "                                      'Phenotype', 'sex_for_qc', 'age','age_of_onset',\n",
    "                                      'race_for_qc']].copy()\n",
    "\n",
    "# Rename columns \n",
    "gp2_data_toKeep_df.rename(columns = {'GP2sampleID': 'IID',\n",
    "                                     'sex_for_qc':'SEX', \n",
    "                                     'age':'AGE', \n",
    "                                     'race_for_qc':'RACE',\n",
    "                                     'age_of_onset':'AAO'}, inplace = True)\n",
    "\n",
    "# Have a look at the abbreviated dataframe\n",
    "#gp2_data_toKeep_df.head()"
   ]
  },
  {
   "cell_type": "code",
   "execution_count": 34,
   "metadata": {},
   "outputs": [
    {
     "data": {
      "text/plain": [
       "PD              5639\n",
       "Control         3661\n",
       "Other              6\n",
       "Not Reported       3\n",
       "Name: Phenotype, dtype: int64"
      ]
     },
     "execution_count": 34,
     "metadata": {},
     "output_type": "execute_result"
    }
   ],
   "source": [
    "# Have a look at the reported phenotypes\n",
    "gp2_data_toKeep_df['Phenotype'].value_counts(dropna=False)"
   ]
  },
  {
   "cell_type": "markdown",
   "metadata": {},
   "source": [
    "## Coding Phenotype"
   ]
  },
  {
   "cell_type": "code",
   "execution_count": 35,
   "metadata": {},
   "outputs": [
    {
     "name": "stdout",
     "output_type": "stream",
     "text": [
      " 2    5639\n",
      " 1    3661\n",
      "-9       9\n",
      "Name: PHENO, dtype: int64\n"
     ]
    }
   ],
   "source": [
    "# Add PHENO\n",
    "gp2_data_pheno_toKeep_df = gp2_data_toKeep_df.copy()\n",
    "\n",
    "## Outline the conditions \n",
    "conditions = [\n",
    "    (gp2_data_pheno_toKeep_df['Phenotype'] == \"PD\"),\n",
    "    (gp2_data_pheno_toKeep_df['Phenotype'] == \"Control\")]\n",
    "\n",
    "## Assign conditions so case=2 and controls=1, and -9 otherwise (matching PLINK convention)\n",
    "choices = [2,1]\n",
    "gp2_data_pheno_toKeep_df['PHENO'] = np.select(conditions, choices, default=-9).astype(np.int64)\n",
    "\n",
    "# Clean up dataframe (reset the index)\n",
    "gp2_data_pheno_toKeep_df.reset_index(inplace=True)\n",
    "gp2_data_pheno_toKeep_df.drop(columns=[\"index\"], inplace=True)\n",
    "\n",
    "# Drop the case/control categorical column \n",
    "gp2_data_pheno_toKeep_df.drop(columns=['Phenotype'], inplace=True)\n",
    "\n",
    "# Print out the PHENO counts\n",
    "print(gp2_data_pheno_toKeep_df['PHENO'].value_counts(dropna=False))"
   ]
  },
  {
   "cell_type": "code",
   "execution_count": 36,
   "metadata": {},
   "outputs": [
    {
     "data": {
      "text/plain": [
       "RACE                                       SEX           PHENO\n",
       "American Indian or Alaska Native           Female         1         10\n",
       "                                                          2          4\n",
       "                                           Male           2          7\n",
       "                                                          1          3\n",
       "Asian                                      Female         1        155\n",
       "                                                          2         90\n",
       "                                           Male           2         99\n",
       "                                                          1         83\n",
       "                                           Not Reported   2          1\n",
       "Black or African American                  Female         1        320\n",
       "                                                          2         40\n",
       "                                           Male           1        236\n",
       "                                                          2         62\n",
       "Multi-racial                               Female         2         19\n",
       "                                                          1         18\n",
       "                                           Male           2         43\n",
       "                                                          1          6\n",
       "Native Hawaiian or Other Pacific Islander  Female         1          1\n",
       "                                           Male           2          2\n",
       "                                                          1          1\n",
       "Not Reported                               Female         2         32\n",
       "                                                          1          1\n",
       "                                           Male           2         47\n",
       "                                                         -9          1\n",
       "                                           Not Reported   2          2\n",
       "                                                         -9          1\n",
       "Other                                      Female         2         34\n",
       "                                                          1         14\n",
       "                                           Male           2         45\n",
       "                                                          1         18\n",
       "Unknown                                    Female         2         53\n",
       "                                                          1         34\n",
       "                                           Male           2         79\n",
       "                                                          1         14\n",
       "White                                      Female         2       1826\n",
       "                                                          1       1469\n",
       "                                                         -9          5\n",
       "                                           Male           2       3154\n",
       "                                                          1       1278\n",
       "                                                         -9          2\n",
       "Name: PHENO, dtype: int64"
      ]
     },
     "execution_count": 36,
     "metadata": {},
     "output_type": "execute_result"
    }
   ],
   "source": [
    "# Let's get case-control numbers by race and sex\n",
    "gp2_data_pheno_toKeep_df.groupby(['RACE','SEX'])['PHENO'].value_counts()"
   ]
  },
  {
   "cell_type": "code",
   "execution_count": 32,
   "metadata": {},
   "outputs": [],
   "source": [
    "# Have a look at your covariate file\n",
    "#gp2_data_pheno_toKeep_df.head()"
   ]
  },
  {
   "cell_type": "markdown",
   "metadata": {},
   "source": [
    "## All done! You've just made a small covariate file with the GP2 Data!"
   ]
  }
 ],
 "metadata": {
  "kernelspec": {
   "display_name": "Python 3",
   "language": "python",
   "name": "python3"
  },
  "language_info": {
   "codemirror_mode": {
    "name": "ipython",
    "version": 3
   },
   "file_extension": ".py",
   "mimetype": "text/x-python",
   "name": "python",
   "nbconvert_exporter": "python",
   "pygments_lexer": "ipython3",
   "version": "3.7.12"
  },
  "toc": {
   "base_numbering": 1,
   "nav_menu": {},
   "number_sections": true,
   "sideBar": true,
   "skip_h1_title": false,
   "title_cell": "Table of Contents",
   "title_sidebar": "Contents",
   "toc_cell": false,
   "toc_position": {},
   "toc_section_display": true,
   "toc_window_display": false
  }
 },
 "nbformat": 4,
 "nbformat_minor": 2
}
