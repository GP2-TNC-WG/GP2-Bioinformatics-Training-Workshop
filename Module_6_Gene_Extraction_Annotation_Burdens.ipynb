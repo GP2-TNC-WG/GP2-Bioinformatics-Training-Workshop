{
 "cells": [
  {
   "cell_type": "markdown",
   "metadata": {},
   "source": [
    "# GP2 Tutorial - Module 6 - Example 2 - Single gene analyses\n",
    "\n",
    "`GP2 ❤️ Open Science 😍`\n",
    "\n",
    "- **Module:** GP2 Demo\n",
    "- **Authors:** Sara Bandres-Ciga, Hampton Leonard, and Mary Makarious on behalf of the Global Parkinson's Genetics Program\n",
    "- **Estimated Computation and Runtime:**\n",
    "    - **Estimated Specifications:** Default; 1 CPU, 3.75 GB Memory, 50 GB Persistent Disk Size\n",
    "    - **Estimated Runtime:** 30 min.\n",
    "- **Date Last Updated:** 17-JULY-2022\n",
    "    - **Update Description:** Finished notebook!\n",
    "\n",
    "---\n",
    "### Quick Description\n",
    "These notebooks serve as a beginner's introduction to Terra, GP2, and AMP-PD data to help you get comfortable navigating the spaces, manage your costs, upload your own data, and begin running some simple analyses.\n",
    "\n",
    "\n",
    "### Course Summary\n",
    "- **Module 1:** Intro + demo Terra\n",
    "- **Module 2:** Introduction to current AMP and GP2 data + managing costs\n",
    "- **Module 3:** How to upload, access, and copy over data \n",
    "- **Module 4:** How to interact with clinical data + make mini covariate files\n",
    "- **Module 5:** Analysis example 1: Run PRS with PD known hits in Non-Euro pops and data viz + save results\n",
    "- **Module 6:** Analysis example 2: How to extract a gene, annotate it, run burden, and get hmz and compound hets + save results **(this notebook!)**\n",
    "- **Module 7:** WDL workflows: What they are + When to use + Quick example overview \n",
    "\n",
    "--- \n",
    "## Notebook Summary \n",
    " - Set up environment\n",
    " - Install packages\n",
    " - Copy data from GP2 Tier 2 directory to workspace\n",
    " - Extract LRRK2 and GBA genes and variants from GP2 release 1 data\n",
    " - Annotate variants\n",
    " - Run burden analyses\n",
    " - Explore PARK2 homozygotes and compound heterozygotes\n",
    " \n",
    "## Workflow\n",
    "\n",
    "### [Getting Started](#1)\n",
    "This section goes through: \n",
    "- Set up environment\n",
    "- Install packages\n",
    "- Copy data from GP2 Tier 2 bucket to workspace\n",
    "\n",
    "### [Gene extraction](#2)\n",
    "This section goes through:\n",
    "- Extract LRRK2 and GBA genes from GP2 release 2 data (AJ population) using plink 1.9 and plink 2.0\n",
    "- Extract LRRK2 G2019S and GBA N370S genes from GP2 release 1 data (AJ population) using plink 1.9 and plink 2.0\n",
    "\n",
    "### [Annotation](#3)\n",
    "This section goes through:\n",
    "- Annotate LRRK2 and GBA genes from GP2 release 2 data (AJ population) using ANNOVAR\n",
    "- Format files\n",
    "- Extract coding variants\n",
    "\n",
    "### [Burden analyses](#4)\n",
    "This section goes through:\n",
    "- Burden analyses including LRRK2 coding variants and interpretation\n",
    "\n",
    "### [Homozygotes/Compound Heterozygotes](#5)\n",
    "This section goes through:\n",
    "- Exploring homozygotes and compound het PARK2 carriers\n",
    "\n",
    "### [Save out results](#6)\n",
    "This section goes through:\n",
    "- Tranfer output files into the bucket\n"
   ]
  },
  {
   "cell_type": "markdown",
   "metadata": {},
   "source": [
    "## Set up environment"
   ]
  },
  {
   "cell_type": "code",
   "execution_count": 2,
   "metadata": {},
   "outputs": [],
   "source": [
    "# Use the os package to interact with the environment\n",
    "import os\n",
    "\n",
    "# Bring in Pandas for Dataframe functionality\n",
    "import pandas as pd\n",
    "\n",
    "# Numpy for basics\n",
    "import numpy as np\n",
    "\n",
    "# Use StringIO for working with file contents\n",
    "from io import StringIO\n",
    "\n",
    "# Enable IPython to display matplotlib graphs\n",
    "import matplotlib.pyplot as plt\n",
    "%matplotlib inline\n",
    "\n",
    "# Enable interaction with the FireCloud API\n",
    "from firecloud import api as fapi\n",
    "\n",
    "# Import the iPython HTML rendering for displaying links to Google Cloud Console\n",
    "from IPython.core.display import display, HTML\n",
    "\n",
    "# Import urllib modules for building URLs to Google Cloud Console\n",
    "import urllib.parse\n",
    "\n",
    "# BigQuery for querying data\n",
    "from google.cloud import bigquery\n",
    "\n",
    "#Import Sys\n",
    "import sys as sys"
   ]
  },
  {
   "cell_type": "code",
   "execution_count": 3,
   "metadata": {},
   "outputs": [
    {
     "name": "stdout",
     "output_type": "stream",
     "text": [
      "Billing and Workspace\n",
      "Workspace Name: GP2 Bioinformatics Course 2\n",
      "Billing Project: terra-9b559320\n",
      "Workspace Bucket, where you can upload and download data: gs://fc-c04486b2-8d7e-4359-a607-63643e9a7914\n",
      "\n",
      "AMP-PD v2.5\n",
      "Path to AMP-PD v2.5 Clinical Data: gs://amp-pd-data/releases/2021_v2-5release_0510/clinical\n",
      "Path to AMP-PD v2.5 WGS Data: gs://amp-pd-genomics/releases/2021_v2-5release_0510/wgs/plink\n",
      "\n",
      "GP2 v2.0\n",
      "Path to GP2 v2.0 Clinical Data: gs://gp2tier2/release2_06052022/clinical_data\n",
      "Path to GP2 v2.0 Raw Genotype Data: gs://gp2tier2/release2_06052022/raw_genotypes\n",
      "Path to GP2 v2.0 Imputed Genotype Data: gs://gp2tier2/release2_06052022/imputed_genotypes\n"
     ]
    }
   ],
   "source": [
    "# Set up billing project and data path variables\n",
    "BILLING_PROJECT_ID = os.environ['GOOGLE_PROJECT']\n",
    "WORKSPACE_NAMESPACE = os.environ['WORKSPACE_NAMESPACE']\n",
    "WORKSPACE_NAME = os.environ['WORKSPACE_NAME']\n",
    "WORKSPACE_BUCKET = os.environ['WORKSPACE_BUCKET']\n",
    "\n",
    "WORKSPACE_ATTRIBUTES = fapi.get_workspace(WORKSPACE_NAMESPACE, WORKSPACE_NAME).json().get('workspace',{}).get('attributes',{})\n",
    "\n",
    "## AMP-PD v2.5\n",
    "## Explicitly define release v2.5 path \n",
    "AMP_RELEASE_PATH = 'gs://amp-pd-data/releases/2021_v2-5release_0510'\n",
    "AMP_CLINICAL_RELEASE_PATH = f'{AMP_RELEASE_PATH}/clinical'\n",
    "\n",
    "AMP_WGS_RELEASE_PATH = 'gs://amp-pd-genomics/releases/2021_v2-5release_0510/wgs'\n",
    "AMP_WGS_RELEASE_PLINK_PATH = os.path.join(AMP_WGS_RELEASE_PATH, 'plink')\n",
    "AMP_WGS_RELEASE_GATK_PATH = os.path.join(AMP_WGS_RELEASE_PATH, 'gatk')\n",
    "\n",
    "## Print the information to check we are in the proper release and billing \n",
    "## This will be different for you, the user, depending on the billing project your workspace is on\n",
    "print('Billing and Workspace')\n",
    "print(f'Workspace Name: {WORKSPACE_NAME}')\n",
    "print(f'Billing Project: {BILLING_PROJECT_ID}')\n",
    "print(f'Workspace Bucket, where you can upload and download data: {WORKSPACE_BUCKET}')\n",
    "print('')\n",
    "\n",
    "print('AMP-PD v2.5')\n",
    "print(f'Path to AMP-PD v2.5 Clinical Data: {AMP_CLINICAL_RELEASE_PATH}')\n",
    "print(f'Path to AMP-PD v2.5 WGS Data: {AMP_WGS_RELEASE_PLINK_PATH}')\n",
    "print('')\n",
    "\n",
    "## GP2 v2.0\n",
    "GP2_RELEASE_PATH = 'gs://gp2tier2/release2_06052022'\n",
    "GP2_CLINICAL_RELEASE_PATH = f'{GP2_RELEASE_PATH}/clinical_data'\n",
    "GP2_META_RELEASE_PATH = f'{GP2_RELEASE_PATH}/meta_data'\n",
    "GP2_SUMSTAT_RELEASE_PATH = f'{GP2_RELEASE_PATH}/summary_statistics'\n",
    "\n",
    "GP2_RAW_GENO_PATH = f'{GP2_RELEASE_PATH}/raw_genotypes'\n",
    "GP2_IMPUTED_GENO_PATH = f'{GP2_RELEASE_PATH}/imputed_genotypes'\n",
    "print('GP2 v2.0')\n",
    "print(f'Path to GP2 v2.0 Clinical Data: {GP2_CLINICAL_RELEASE_PATH}')\n",
    "print(f'Path to GP2 v2.0 Raw Genotype Data: {GP2_RAW_GENO_PATH}')\n",
    "print(f'Path to GP2 v2.0 Imputed Genotype Data: {GP2_IMPUTED_GENO_PATH}')\n",
    "\n"
   ]
  },
  {
   "cell_type": "code",
   "execution_count": 4,
   "metadata": {},
   "outputs": [],
   "source": [
    "# Utility routine for printing a shell command before executing it\n",
    "def shell_do(command):\n",
    "    print(f'Executing: {command}', file=sys.stderr)\n",
    "    !$command\n",
    "    \n",
    "def shell_return(command):\n",
    "    print(f'Executing: {command}', file=sys.stderr)\n",
    "    output = !$command\n",
    "    return '\\n'.join(output)\n",
    "\n",
    "# Utility routine for printing a query before executing it\n",
    "def bq_query(query):\n",
    "    print(f'Executing: {query}', file=sys.stderr)\n",
    "    return pd.read_gbq(query, project_id=BILLING_PROJECT_ID, dialect='standard')\n",
    "\n",
    "# Utility routine for display a message and a link\n",
    "def display_html_link(description, link_text, url):\n",
    "    html = f'''\n",
    "    <p>\n",
    "    </p>\n",
    "    <p>\n",
    "    {description}\n",
    "    <a target=_blank href=\"{url}\">{link_text}</a>.\n",
    "    </p>\n",
    "    '''\n",
    "\n",
    "    display(HTML(html))\n",
    "\n",
    "# Utility routines for reading files from Google Cloud Storage\n",
    "def gcs_read_file(path):\n",
    "    \"\"\"Return the contents of a file in GCS\"\"\"\n",
    "    contents = !gsutil -u {BILLING_PROJECT_ID} cat {path}\n",
    "    return '\\n'.join(contents)\n",
    "    \n",
    "def gcs_read_csv(path, sep=None):\n",
    "    \"\"\"Return a DataFrame from the contents of a delimited file in GCS\"\"\"\n",
    "    return pd.read_csv(StringIO(gcs_read_file(path)), sep=sep, engine='python')\n",
    "\n",
    "# Utility routine for displaying a message and link to Cloud Console\n",
    "def link_to_cloud_console_gcs(description, link_text, gcs_path):\n",
    "    url = '{}?{}'.format(\n",
    "        os.path.join('https://console.cloud.google.com/storage/browser',\n",
    "                     gcs_path.replace(\"gs://\",\"\")),\n",
    "        urllib.parse.urlencode({'userProject': BILLING_PROJECT_ID}))\n",
    "\n",
    "    display_html_link(description, link_text, url)"
   ]
  },
  {
   "cell_type": "markdown",
   "metadata": {},
   "source": [
    "## Install packages"
   ]
  },
  {
   "cell_type": "code",
   "execution_count": 5,
   "metadata": {},
   "outputs": [],
   "source": [
    "%%capture\n",
    "%%bash\n",
    "\n",
    "# Install plink 1.9\n",
    "cd /home/jupyter/\n",
    "if test -e /home/jupyter/plink; then\n",
    "\n",
    "echo \"Plink is already installed in /home/jupyter/\"\n",
    "else\n",
    "echo \"Plink is not installed\"\n",
    "cd /home/jupyter\n",
    "\n",
    "wget http://s3.amazonaws.com/plink1-assets/plink_linux_x86_64_20190304.zip \n",
    "\n",
    "unzip -o plink_linux_x86_64_20190304.zip\n",
    "mv plink plink1.9\n",
    "\n",
    "fi"
   ]
  },
  {
   "cell_type": "code",
   "execution_count": 6,
   "metadata": {},
   "outputs": [],
   "source": [
    "%%capture\n",
    "%%bash\n",
    "\n",
    "# Install plink 2.0\n",
    "cd /home/jupyter/\n",
    "if test -e /home/jupyter/plink2; then\n",
    "\n",
    "echo \"Plink2 is already installed in /home/jupyter/\"\n",
    "else\n",
    "echo \"Plink2 is not installed\"\n",
    "cd /home/jupyter/\n",
    "\n",
    "wget http://s3.amazonaws.com/plink2-assets/plink2_linux_x86_64_latest.zip\n",
    "\n",
    "unzip -o plink2_linux_x86_64_latest.zip\n",
    "\n",
    "fi"
   ]
  },
  {
   "cell_type": "code",
   "execution_count": 7,
   "metadata": {},
   "outputs": [],
   "source": [
    "%%bash\n",
    "\n",
    "# chmod plink 1.9 to make sure you have permission to run the program\n",
    "chmod u+x /home/jupyter/plink1.9"
   ]
  },
  {
   "cell_type": "code",
   "execution_count": 8,
   "metadata": {},
   "outputs": [],
   "source": [
    "%%bash\n",
    "\n",
    "# chmod plink 2.0 to make sure you have permission to run the program\n",
    "chmod u+x /home/jupyter/plink2"
   ]
  },
  {
   "cell_type": "code",
   "execution_count": 9,
   "metadata": {},
   "outputs": [],
   "source": [
    "%%capture\n",
    "%%bash\n",
    "\n",
    "# Install ANNOVAR: We are adding the download link after registration on the annovar website\n",
    "# https://www.openbioinformatics.org/annovar/annovar_download_form.php\n",
    "\n",
    "if test -e /home/jupyter/annovar; then\n",
    "\n",
    "echo \"annovar is already installed in /home/jupyter/notebooks\"\n",
    "else\n",
    "echo \"annovar is not installed\"\n",
    "cd /home/jupyter/\n",
    "\n",
    "wget http://www.openbioinformatics.org/annovar/download/0wgxR2rIVP/annovar.latest.tar.gz\n",
    "\n",
    "tar xvfz annovar.latest.tar.gz\n",
    "\n",
    "fi"
   ]
  },
  {
   "cell_type": "code",
   "execution_count": 10,
   "metadata": {},
   "outputs": [],
   "source": [
    "%%capture\n",
    "%%bash\n",
    "\n",
    "# Install ANNOVAR: Download resources for annotation\n",
    "\n",
    "cd /home/jupyter/annovar/\n",
    "\n",
    "perl annotate_variation.pl -buildver hg38 -downdb -webfrom annovar refGene humandb/\n",
    "perl annotate_variation.pl -buildver hg38 -downdb -webfrom annovar clinvar_20140902 humandb/\n",
    "#perl annotate_variation.pl -buildver hg38 -downdb cytoBand humandb/\n",
    "#perl annotate_variation.pl -buildver hg38 -downdb -webfrom annovar ensGene humandb/\n",
    "#perl annotate_variation.pl -buildver hg38 -downdb -webfrom annovar exac03 humandb/ \n",
    "#perl annotate_variation.pl -buildver hg38 -downdb -webfrom annovar avsnp147 humandb/ \n",
    "#perl annotate_variation.pl -buildver hg38 -downdb -webfrom annovar dbnsfp30a humandb/\n",
    "#perl annotate_variation.pl -buildver hg38 -downdb -webfrom annovar gnomad211_genome humandb/\n",
    "#perl annotate_variation.pl -buildver hg38 -downdb -webfrom annovar ljb26_all humandb/\n"
   ]
  },
  {
   "cell_type": "code",
   "execution_count": 11,
   "metadata": {},
   "outputs": [
    {
     "name": "stdout",
     "output_type": "stream",
     "text": [
      "rvtests is not installed\n"
     ]
    },
    {
     "name": "stderr",
     "output_type": "stream",
     "text": [
      "Cloning into 'rvtests'...\n"
     ]
    }
   ],
   "source": [
    "%%bash\n",
    "rm -r /home/jupyter/rvtests\n",
    "#Install RVTESTS: Option 1 (~15min)\n",
    "if test -e ~/home/jupyter/rvtests; then\n",
    "\n",
    "echo \"rvtests is already installed\"\n",
    "else\n",
    "echo \"rvtests is not installed\"\n",
    "cd /home/jupyter/\n",
    "\n",
    "git clone https://github.com/zhanxw/rvtests\n",
    "\n",
    "fi"
   ]
  },
  {
   "cell_type": "code",
   "execution_count": 13,
   "metadata": {},
   "outputs": [
    {
     "name": "stderr",
     "output_type": "stream",
     "text": [
      "Executing: gsutil -u terra-9b559320 -m cp -r gs://fc-secure-e7ee53f9-e643-4d4b-b4b8-955c8ad7b23e/executable/ /home/jupyter\n"
     ]
    },
    {
     "name": "stdout",
     "output_type": "stream",
     "text": [
      "Copying gs://fc-secure-e7ee53f9-e643-4d4b-b4b8-955c8ad7b23e/executable/bgen2vcf...\n",
      "Copying gs://fc-secure-e7ee53f9-e643-4d4b-b4b8-955c8ad7b23e/executable/combineKinship...\n",
      "Copying gs://fc-secure-e7ee53f9-e643-4d4b-b4b8-955c8ad7b23e/executable/bgen2vcf.d...\n",
      "Copying gs://fc-secure-e7ee53f9-e643-4d4b-b4b8-955c8ad7b23e/executable/bgenFileInfo.d...\n",
      "Copying gs://fc-secure-e7ee53f9-e643-4d4b-b4b8-955c8ad7b23e/executable/bgenFileInfo...\n",
      "Copying gs://fc-secure-e7ee53f9-e643-4d4b-b4b8-955c8ad7b23e/executable/combineKinship.d...\n",
      "Copying gs://fc-secure-e7ee53f9-e643-4d4b-b4b8-955c8ad7b23e/executable/createBCF2Index...\n",
      "Copying gs://fc-secure-e7ee53f9-e643-4d4b-b4b8-955c8ad7b23e/executable/createBCF2Index.d...\n",
      "Copying gs://fc-secure-e7ee53f9-e643-4d4b-b4b8-955c8ad7b23e/executable/createVCFIndex...\n",
      "Copying gs://fc-secure-e7ee53f9-e643-4d4b-b4b8-955c8ad7b23e/executable/createVCFIndex.d...\n",
      "Copying gs://fc-secure-e7ee53f9-e643-4d4b-b4b8-955c8ad7b23e/executable/explainCSI1...\n",
      "Copying gs://fc-secure-e7ee53f9-e643-4d4b-b4b8-955c8ad7b23e/executable/explainCSI1.d...\n",
      "Copying gs://fc-secure-e7ee53f9-e643-4d4b-b4b8-955c8ad7b23e/executable/explainCSI2...\n",
      "Copying gs://fc-secure-e7ee53f9-e643-4d4b-b4b8-955c8ad7b23e/executable/explainCSI2.d...\n",
      "Copying gs://fc-secure-e7ee53f9-e643-4d4b-b4b8-955c8ad7b23e/executable/explainTabix...\n",
      "Copying gs://fc-secure-e7ee53f9-e643-4d4b-b4b8-955c8ad7b23e/executable/explainTabix.d...\n",
      "Copying gs://fc-secure-e7ee53f9-e643-4d4b-b4b8-955c8ad7b23e/executable/extractVCFIndex...\n",
      "Copying gs://fc-secure-e7ee53f9-e643-4d4b-b4b8-955c8ad7b23e/executable/extractVCFIndex.d...\n",
      "Copying gs://fc-secure-e7ee53f9-e643-4d4b-b4b8-955c8ad7b23e/executable/kinshipDecompose...\n",
      "Copying gs://fc-secure-e7ee53f9-e643-4d4b-b4b8-955c8ad7b23e/executable/kinshipDecompose.d...\n",
      "Copying gs://fc-secure-e7ee53f9-e643-4d4b-b4b8-955c8ad7b23e/executable/plink2vcf...\n",
      "Copying gs://fc-secure-e7ee53f9-e643-4d4b-b4b8-955c8ad7b23e/executable/plink2vcf.d...\n",
      "Copying gs://fc-secure-e7ee53f9-e643-4d4b-b4b8-955c8ad7b23e/executable/queryVCFIndex...\n",
      "Copying gs://fc-secure-e7ee53f9-e643-4d4b-b4b8-955c8ad7b23e/executable/queryVCFIndex.d...\n",
      "Copying gs://fc-secure-e7ee53f9-e643-4d4b-b4b8-955c8ad7b23e/executable/rvtest...\n",
      "Copying gs://fc-secure-e7ee53f9-e643-4d4b-b4b8-955c8ad7b23e/executable/vcf2geno...\n",
      "Copying gs://fc-secure-e7ee53f9-e643-4d4b-b4b8-955c8ad7b23e/executable/vcf2geno.d...\n",
      "Copying gs://fc-secure-e7ee53f9-e643-4d4b-b4b8-955c8ad7b23e/executable/vcf2kinship...\n",
      "Copying gs://fc-secure-e7ee53f9-e643-4d4b-b4b8-955c8ad7b23e/executable/vcf2kinship.d...\n",
      "Copying gs://fc-secure-e7ee53f9-e643-4d4b-b4b8-955c8ad7b23e/executable/vcf2ld_gene...\n",
      "Copying gs://fc-secure-e7ee53f9-e643-4d4b-b4b8-955c8ad7b23e/executable/vcf2ld_gene.d...\n",
      "Copying gs://fc-secure-e7ee53f9-e643-4d4b-b4b8-955c8ad7b23e/executable/vcf2ld_neighbor...\n",
      "Copying gs://fc-secure-e7ee53f9-e643-4d4b-b4b8-955c8ad7b23e/executable/vcf2ld_neighbor.d...\n",
      "Copying gs://fc-secure-e7ee53f9-e643-4d4b-b4b8-955c8ad7b23e/executable/vcf2ld_window...\n",
      "Copying gs://fc-secure-e7ee53f9-e643-4d4b-b4b8-955c8ad7b23e/executable/vcf2ld_window.d...\n",
      "Copying gs://fc-secure-e7ee53f9-e643-4d4b-b4b8-955c8ad7b23e/executable/vcf2plink...\n",
      "Copying gs://fc-secure-e7ee53f9-e643-4d4b-b4b8-955c8ad7b23e/executable/vcf2plink.d...\n",
      "Copying gs://fc-secure-e7ee53f9-e643-4d4b-b4b8-955c8ad7b23e/executable/vcfAnnoSummaryLite...\n",
      "Copying gs://fc-secure-e7ee53f9-e643-4d4b-b4b8-955c8ad7b23e/executable/vcfAnnoSummaryLite.d...\n",
      "Copying gs://fc-secure-e7ee53f9-e643-4d4b-b4b8-955c8ad7b23e/executable/vcfConcordance...\n",
      "Copying gs://fc-secure-e7ee53f9-e643-4d4b-b4b8-955c8ad7b23e/executable/vcfConcordance.d...\n",
      "Copying gs://fc-secure-e7ee53f9-e643-4d4b-b4b8-955c8ad7b23e/executable/vcfExtractSite...\n",
      "Copying gs://fc-secure-e7ee53f9-e643-4d4b-b4b8-955c8ad7b23e/executable/vcfExtractSite.d...\n",
      "Copying gs://fc-secure-e7ee53f9-e643-4d4b-b4b8-955c8ad7b23e/executable/vcfIndvSummary...\n",
      "Copying gs://fc-secure-e7ee53f9-e643-4d4b-b4b8-955c8ad7b23e/executable/vcfIndvSummary.d...\n",
      "Copying gs://fc-secure-e7ee53f9-e643-4d4b-b4b8-955c8ad7b23e/executable/vcfPair...\n",
      "Copying gs://fc-secure-e7ee53f9-e643-4d4b-b4b8-955c8ad7b23e/executable/vcfPair.d...\n",
      "Copying gs://fc-secure-e7ee53f9-e643-4d4b-b4b8-955c8ad7b23e/executable/vcfPeek...\n",
      "Copying gs://fc-secure-e7ee53f9-e643-4d4b-b4b8-955c8ad7b23e/executable/vcfPeek.d...\n",
      "Copying gs://fc-secure-e7ee53f9-e643-4d4b-b4b8-955c8ad7b23e/executable/vcfSummary...\n",
      "Copying gs://fc-secure-e7ee53f9-e643-4d4b-b4b8-955c8ad7b23e/executable/vcfSummary.d...\n",
      "Copying gs://fc-secure-e7ee53f9-e643-4d4b-b4b8-955c8ad7b23e/executable/vcfSummaryLite...\n",
      "Copying gs://fc-secure-e7ee53f9-e643-4d4b-b4b8-955c8ad7b23e/executable/vcfSummaryLite.d...\n",
      "Copying gs://fc-secure-e7ee53f9-e643-4d4b-b4b8-955c8ad7b23e/executable/vcfVariantSummaryLite...\n",
      "Copying gs://fc-secure-e7ee53f9-e643-4d4b-b4b8-955c8ad7b23e/executable/vcfVariantSummaryLite.d...\n",
      "- [55/55 files][121.5 MiB/121.5 MiB] 100% Done                                  \n",
      "Operation completed over 55 objects/121.5 MiB.                                   \n"
     ]
    }
   ],
   "source": [
    "#Install RVTESTS: Option 2 (from the executable previously uploaded to the workspace bucket)\n",
    "shell_do(f'gsutil -u {BILLING_PROJECT_ID} -m cp -r gs://fc-secure-e7ee53f9-e643-4d4b-b4b8-955c8ad7b23e/executable/ /home/jupyter')"
   ]
  },
  {
   "cell_type": "code",
   "execution_count": 17,
   "metadata": {},
   "outputs": [],
   "source": [
    "%%bash \n",
    "\n",
    "# Change permissions\n",
    "chmod 777 /home/jupyter/executable/rvtest"
   ]
  },
  {
   "cell_type": "code",
   "execution_count": 18,
   "metadata": {},
   "outputs": [
    {
     "name": "stderr",
     "output_type": "stream",
     "text": [
      "Basic Input/Output\n",
      "                 --inVcf: Input VCF File\n",
      "                --inBgen: Input BGEN File\n",
      "          --inBgenSample: Input Sample IDs for the BGEN File\n",
      "                 --inKgg: Input KGG File\n",
      "                   --out: Output prefix\n",
      "             --outputRaw: Output genotypes, phenotype, covariates(if any); and\n",
      "                          collapsed genotype to tabular files\n",
      "Specify Covariate\n",
      "                 --covar: Specify covariate file\n",
      "            --covar-name: Specify the column name in covariate file to be\n",
      "                          included in analysis\n",
      "                   --sex: Include sex (5th column in the PED file) as a covariate\n",
      "Specify Phenotype\n",
      "                 --pheno: Specify phenotype file\n",
      "         --inverseNormal: Transform phenotype like normal distribution\n",
      "--useResidualAsPhenotype: Fit covariate ~ phenotype, use residual to replace\n",
      "                          phenotype\n",
      "                --mpheno: Specify which phenotype column to read (default: 1);\n",
      "            --pheno-name: Specify which phenotype column to read by header\n",
      "                   --qtl: Treat phenotype as quantitative trait\n",
      "         --multiplePheno: Specify aa template file for analyses of more than one\n",
      "                          phenotype\n",
      "Specify Genotype\n",
      "                --dosage: Specify which dosage tag to use. (e.g. EC or DS);\n",
      "        --multipleAllele: Support multi-allelic genotypes\n",
      "Chromosome X Options\n",
      "                --xLabel: Specify X chromosome label (default: 23|X);\n",
      "            --xParRegion: Specify PAR region (default: hg19);, can be build\n",
      "                          number e.g. hg38, b37; or specify region, e.g.\n",
      "                          '60001-2699520,154931044-155260560'\n",
      "People Filter\n",
      "       --peopleIncludeID: List IDs of people that will be included in study\n",
      "     --peopleIncludeFile: From given file, set IDs of people that will be\n",
      "                          included in study\n",
      "       --peopleExcludeID: List IDs of people that will be included in study\n",
      "     --peopleExcludeFile: From given file, set IDs of people that will be\n",
      "                          included in study\n",
      "Site Filter\n",
      "             --rangeList: Specify some ranges to use, please use chr:begin-end\n",
      "                          format.\n",
      "             --rangeFile: Specify the file containing ranges, please use\n",
      "                          chr:begin-end format.\n",
      "              --siteFile: Specify the file containing sites to include, please\n",
      "                          use \"chr pos\" format.\n",
      "          --siteDepthMin: Specify minimum depth(inclusive); to be included in\n",
      "                          analysis\n",
      "          --siteDepthMax: Specify maximum depth(inclusive); to be included in\n",
      "                          analysis\n",
      "            --siteMACMin: Specify minimum Minor Allele Count(inclusive); to be\n",
      "                          included in analysis\n",
      "              --annoType: Specify annotation type that is followed by ANNO= in\n",
      "                          the VCF INFO field, regular expression is allowed\n",
      "Genotype Filter\n",
      "          --indvDepthMin: Specify minimum depth(inclusive); of a sample to be\n",
      "                          included in analysis\n",
      "          --indvDepthMax: Specify maximum depth(inclusive); of a sample to be\n",
      "                          included in analysis\n",
      "           --indvQualMin: Specify minimum depth(inclusive); of a sample to be\n",
      "                          included in analysis\n",
      "Association Model\n",
      "                --single: Single variant tests, choose from: score, wald, exact,\n",
      "                          famScore, famLrt, famGrammarGamma, firth\n",
      "                --burden: Burden tests, choose from: cmc, zeggini, mb, exactCMC,\n",
      "                          rarecover, cmat, cmcWald\n",
      "                    --vt: Variable threshold tests, choose from: price, analytic\n",
      "                --kernel: Kernal-based tests, choose from: SKAT, KBAC, FamSKAT,\n",
      "                          SKATO\n",
      "                  --meta: Meta-analysis related functions to generate summary\n",
      "                          statistics, choose from: score, cov, dominant,\n",
      "                          recessive\n",
      "Family-based Models\n",
      "               --kinship: Specify a kinship file for autosomal analysis, use\n",
      "                          vcf2kinship to generate\n",
      "          --xHemiKinship: Provide kinship for the chromosome X hemizygote region\n",
      "          --kinshipEigen: Specify eigen decomposition results of a kinship file\n",
      "                          for autosomal analysis\n",
      "     --xHemiKinshipEigen: Specify eigen decomposition results of a kinship file\n",
      "                          for X analysis\n",
      "             --boltPlink: Specify a prefix of binary PLINK inputs for BoltLMM\n",
      "      --boltPlinkNoCheck: Not checking MAF and missingness for binary PLINK file\n",
      "Grouping Unit \n",
      "              --geneFile: Specify a gene file (for burden tests);\n",
      "                  --gene: Specify which genes to test\n",
      "               --setList: Specify a list to test (for burden tests);\n",
      "               --setFile: Specify a list file (for burden tests, first 2 columns:\n",
      "                          setName chr:beg-end);\n",
      "                   --set: Specify which set to test (1st column);\n",
      "Frequency Cutoff\n",
      "             --freqUpper: Specify upper minor allele frequency bound to be\n",
      "                          included in analysis\n",
      "             --freqLower: Specify lower minor allele frequency bound to be\n",
      "                          included in analysis\n",
      "Missing Data\n",
      "                --impute: Impute missing genotype (default:mean):  mean, hwe, and\n",
      "                          drop\n",
      "           --imputePheno: Impute phenotype to mean of those have genotypes but no\n",
      "                          phenotypes\n",
      "             --imputeCov: Impute each covariate to its mean, instead of drop\n",
      "                          samples with missing covariates\n",
      "Conditional Analysis\n",
      "             --condition: Specify markers to be conditions (specify range);\n",
      "Auxiliary Functions\n",
      "                 --noweb: Skip checking new version\n",
      "            --hide-covar: Surpress output lines of covariates\n",
      "             --numThread: Specify number of threads (default:1)\n",
      "              --outputID: Output VCF IDs in single-variant assocition results\n",
      "                  --help: Print detailed help message\n"
     ]
    }
   ],
   "source": [
    "%%bash\n",
    "\n",
    "/home/jupyter/executable/rvtest --help"
   ]
  },
  {
   "cell_type": "code",
   "execution_count": 19,
   "metadata": {},
   "outputs": [
    {
     "name": "stderr",
     "output_type": "stream",
     "text": [
      "Executing: gsutil -u terra-9b559320 -m cp gs://fc-c04486b2-8d7e-4359-a607-63643e9a7914/refFlat.txt /home/jupyter\n"
     ]
    },
    {
     "name": "stdout",
     "output_type": "stream",
     "text": [
      "Copying gs://fc-c04486b2-8d7e-4359-a607-63643e9a7914/refFlat.txt...\n",
      "/ [1/1 files][ 21.2 MiB/ 21.2 MiB] 100% Done                                    \n",
      "Operation completed over 1 objects/21.2 MiB.                                     \n"
     ]
    }
   ],
   "source": [
    "# Copy Reflat_38 file into workspace\n",
    "shell_do(f'gsutil -u {BILLING_PROJECT_ID} -m cp {WORKSPACE_BUCKET}/refFlat.txt /home/jupyter')"
   ]
  },
  {
   "cell_type": "markdown",
   "metadata": {},
   "source": [
    "## Copy GP2 data from GP2 Tier 2 directory to workspace"
   ]
  },
  {
   "cell_type": "code",
   "execution_count": 20,
   "metadata": {},
   "outputs": [
    {
     "name": "stdout",
     "output_type": "stream",
     "text": [
      "Making a working directory\n"
     ]
    },
    {
     "name": "stderr",
     "output_type": "stream",
     "text": [
      "Executing: mkdir -p /home/jupyter/LRRK2_GBA/\n"
     ]
    }
   ],
   "source": [
    "# Create a folder on your workspace\n",
    "print(\"Making a working directory\")\n",
    "WORK_DIR = f'/home/jupyter/LRRK2_GBA/'\n",
    "shell_do(f'mkdir -p {WORK_DIR}') # f' stands for f-string which contains expressions inside brackets"
   ]
  },
  {
   "cell_type": "code",
   "execution_count": 21,
   "metadata": {},
   "outputs": [
    {
     "name": "stdout",
     "output_type": "stream",
     "text": [
      "List available imputed genotype information in GP2 (broken down by ancestry)\n"
     ]
    },
    {
     "name": "stderr",
     "output_type": "stream",
     "text": [
      "Executing: gsutil -u terra-9b559320 ls gs://gp2tier2/release2_06052022/imputed_genotypes\n"
     ]
    },
    {
     "name": "stdout",
     "output_type": "stream",
     "text": [
      "gs://gp2tier2/release2_06052022/imputed_genotypes/AAC/\r\n",
      "gs://gp2tier2/release2_06052022/imputed_genotypes/AFR/\r\n",
      "gs://gp2tier2/release2_06052022/imputed_genotypes/AJ/\r\n",
      "gs://gp2tier2/release2_06052022/imputed_genotypes/AMR/\r\n",
      "gs://gp2tier2/release2_06052022/imputed_genotypes/CAS/\r\n",
      "gs://gp2tier2/release2_06052022/imputed_genotypes/EAS/\r\n",
      "gs://gp2tier2/release2_06052022/imputed_genotypes/EUR/\r\n",
      "gs://gp2tier2/release2_06052022/imputed_genotypes/SAS/\r\n"
     ]
    }
   ],
   "source": [
    "# Check directory where GP2 Tier 2 data is\n",
    "print(\"List available imputed genotype information in GP2 (broken down by ancestry)\")\n",
    "shell_do(f'gsutil -u {BILLING_PROJECT_ID} ls {GP2_IMPUTED_GENO_PATH}')"
   ]
  },
  {
   "cell_type": "code",
   "execution_count": 22,
   "metadata": {},
   "outputs": [
    {
     "name": "stderr",
     "output_type": "stream",
     "text": [
      "Executing: gsutil -u terra-9b559320 -m cp -r gs://gp2tier2/release2_06052022/imputed_genotypes/AJ /home/jupyter/LRRK2_GBA/\n"
     ]
    },
    {
     "name": "stdout",
     "output_type": "stream",
     "text": [
      "Copying gs://gp2tier2/release2_06052022/imputed_genotypes/AJ/chr10_AJ_release2.pvar...\n",
      "Copying gs://gp2tier2/release2_06052022/imputed_genotypes/AJ/chr10_AJ_release2.psam...\n",
      "Copying gs://gp2tier2/release2_06052022/imputed_genotypes/AJ/chr10_AJ_release2.pgen...\n",
      "Copying gs://gp2tier2/release2_06052022/imputed_genotypes/AJ/chr10_AJ_release2.log...\n",
      "Copying gs://gp2tier2/release2_06052022/imputed_genotypes/AJ/chr11_AJ_release2.log...\n",
      "Copying gs://gp2tier2/release2_06052022/imputed_genotypes/AJ/chr11_AJ_release2.pgen...\n",
      "Copying gs://gp2tier2/release2_06052022/imputed_genotypes/AJ/chr11_AJ_release2.psam...\n",
      "Copying gs://gp2tier2/release2_06052022/imputed_genotypes/AJ/chr11_AJ_release2.pvar...\n",
      "Copying gs://gp2tier2/release2_06052022/imputed_genotypes/AJ/chr12_AJ_release2.log...\n",
      "Copying gs://gp2tier2/release2_06052022/imputed_genotypes/AJ/chr12_AJ_release2.pgen...\n",
      "Copying gs://gp2tier2/release2_06052022/imputed_genotypes/AJ/chr12_AJ_release2.psam...\n",
      "Copying gs://gp2tier2/release2_06052022/imputed_genotypes/AJ/chr12_AJ_release2.pvar...\n",
      "Copying gs://gp2tier2/release2_06052022/imputed_genotypes/AJ/chr13_AJ_release2.log...\n",
      "Copying gs://gp2tier2/release2_06052022/imputed_genotypes/AJ/chr13_AJ_release2.pgen...\n",
      "Copying gs://gp2tier2/release2_06052022/imputed_genotypes/AJ/chr13_AJ_release2.psam...\n",
      "Copying gs://gp2tier2/release2_06052022/imputed_genotypes/AJ/chr13_AJ_release2.pvar...\n",
      "Copying gs://gp2tier2/release2_06052022/imputed_genotypes/AJ/chr14_AJ_release2.log...\n",
      "Copying gs://gp2tier2/release2_06052022/imputed_genotypes/AJ/chr14_AJ_release2.pgen...\n",
      "Copying gs://gp2tier2/release2_06052022/imputed_genotypes/AJ/chr14_AJ_release2.psam...\n",
      "Copying gs://gp2tier2/release2_06052022/imputed_genotypes/AJ/chr14_AJ_release2.pvar...\n",
      "Copying gs://gp2tier2/release2_06052022/imputed_genotypes/AJ/chr15_AJ_release2.log...\n",
      "Copying gs://gp2tier2/release2_06052022/imputed_genotypes/AJ/chr15_AJ_release2.pgen...\n",
      "Copying gs://gp2tier2/release2_06052022/imputed_genotypes/AJ/chr15_AJ_release2.psam...\n",
      "Copying gs://gp2tier2/release2_06052022/imputed_genotypes/AJ/chr15_AJ_release2.pvar...\n",
      "Copying gs://gp2tier2/release2_06052022/imputed_genotypes/AJ/chr16_AJ_release2.log...\n",
      "Copying gs://gp2tier2/release2_06052022/imputed_genotypes/AJ/chr16_AJ_release2.pgen...\n",
      "Copying gs://gp2tier2/release2_06052022/imputed_genotypes/AJ/chr16_AJ_release2.psam...\n",
      "Copying gs://gp2tier2/release2_06052022/imputed_genotypes/AJ/chr16_AJ_release2.pvar...\n",
      "Copying gs://gp2tier2/release2_06052022/imputed_genotypes/AJ/chr17_AJ_release2.log...\n",
      "Copying gs://gp2tier2/release2_06052022/imputed_genotypes/AJ/chr17_AJ_release2.pgen...\n",
      "Copying gs://gp2tier2/release2_06052022/imputed_genotypes/AJ/chr17_AJ_release2.psam...\n",
      "Copying gs://gp2tier2/release2_06052022/imputed_genotypes/AJ/chr17_AJ_release2.pvar...\n",
      "Copying gs://gp2tier2/release2_06052022/imputed_genotypes/AJ/chr18_AJ_release2.log...\n",
      "Copying gs://gp2tier2/release2_06052022/imputed_genotypes/AJ/chr18_AJ_release2.pgen...\n",
      "Copying gs://gp2tier2/release2_06052022/imputed_genotypes/AJ/chr18_AJ_release2.psam...\n",
      "Copying gs://gp2tier2/release2_06052022/imputed_genotypes/AJ/chr18_AJ_release2.pvar...\n",
      "Copying gs://gp2tier2/release2_06052022/imputed_genotypes/AJ/chr19_AJ_release2.log...\n",
      "Copying gs://gp2tier2/release2_06052022/imputed_genotypes/AJ/chr19_AJ_release2.pgen...\n",
      "Copying gs://gp2tier2/release2_06052022/imputed_genotypes/AJ/chr19_AJ_release2.psam...\n",
      "Copying gs://gp2tier2/release2_06052022/imputed_genotypes/AJ/chr19_AJ_release2.pvar...\n",
      "Copying gs://gp2tier2/release2_06052022/imputed_genotypes/AJ/chr1_AJ_release2.log...\n",
      "Copying gs://gp2tier2/release2_06052022/imputed_genotypes/AJ/chr1_AJ_release2.pgen...\n",
      "Copying gs://gp2tier2/release2_06052022/imputed_genotypes/AJ/chr1_AJ_release2.psam...\n",
      "Copying gs://gp2tier2/release2_06052022/imputed_genotypes/AJ/chr1_AJ_release2.pvar...\n",
      "Copying gs://gp2tier2/release2_06052022/imputed_genotypes/AJ/chr20_AJ_release2.log...\n",
      "Copying gs://gp2tier2/release2_06052022/imputed_genotypes/AJ/chr20_AJ_release2.pgen...\n",
      "Copying gs://gp2tier2/release2_06052022/imputed_genotypes/AJ/chr20_AJ_release2.psam...\n",
      "Copying gs://gp2tier2/release2_06052022/imputed_genotypes/AJ/chr20_AJ_release2.pvar...\n",
      "Copying gs://gp2tier2/release2_06052022/imputed_genotypes/AJ/chr21_AJ_release2.log...\n",
      "Copying gs://gp2tier2/release2_06052022/imputed_genotypes/AJ/chr21_AJ_release2.pgen...\n",
      "Copying gs://gp2tier2/release2_06052022/imputed_genotypes/AJ/chr21_AJ_release2.psam...\n",
      "Copying gs://gp2tier2/release2_06052022/imputed_genotypes/AJ/chr21_AJ_release2.pvar...\n",
      "Copying gs://gp2tier2/release2_06052022/imputed_genotypes/AJ/chr22_AJ_release2.log...\n",
      "Copying gs://gp2tier2/release2_06052022/imputed_genotypes/AJ/chr22_AJ_release2.pgen...\n",
      "Copying gs://gp2tier2/release2_06052022/imputed_genotypes/AJ/chr22_AJ_release2.psam...\n",
      "Copying gs://gp2tier2/release2_06052022/imputed_genotypes/AJ/chr22_AJ_release2.pvar...\n",
      "Copying gs://gp2tier2/release2_06052022/imputed_genotypes/AJ/chr2_AJ_release2.log...\n",
      "Copying gs://gp2tier2/release2_06052022/imputed_genotypes/AJ/chr2_AJ_release2.pgen...\n",
      "Copying gs://gp2tier2/release2_06052022/imputed_genotypes/AJ/chr2_AJ_release2.psam...\n",
      "Copying gs://gp2tier2/release2_06052022/imputed_genotypes/AJ/chr2_AJ_release2.pvar...\n",
      "Copying gs://gp2tier2/release2_06052022/imputed_genotypes/AJ/chr3_AJ_release2.log...\n",
      "Copying gs://gp2tier2/release2_06052022/imputed_genotypes/AJ/chr3_AJ_release2.pgen...\n",
      "Copying gs://gp2tier2/release2_06052022/imputed_genotypes/AJ/chr3_AJ_release2.psam...\n",
      "Copying gs://gp2tier2/release2_06052022/imputed_genotypes/AJ/chr3_AJ_release2.pvar...\n",
      "Copying gs://gp2tier2/release2_06052022/imputed_genotypes/AJ/chr4_AJ_release2.log...\n",
      "Copying gs://gp2tier2/release2_06052022/imputed_genotypes/AJ/chr4_AJ_release2.pgen...\n",
      "Copying gs://gp2tier2/release2_06052022/imputed_genotypes/AJ/chr4_AJ_release2.psam...\n",
      "Copying gs://gp2tier2/release2_06052022/imputed_genotypes/AJ/chr4_AJ_release2.pvar...\n",
      "Copying gs://gp2tier2/release2_06052022/imputed_genotypes/AJ/chr5_AJ_release2.log...\n",
      "Copying gs://gp2tier2/release2_06052022/imputed_genotypes/AJ/chr5_AJ_release2.pgen...\n",
      "Copying gs://gp2tier2/release2_06052022/imputed_genotypes/AJ/chr5_AJ_release2.psam...\n",
      "Copying gs://gp2tier2/release2_06052022/imputed_genotypes/AJ/chr5_AJ_release2.pvar...\n",
      "Copying gs://gp2tier2/release2_06052022/imputed_genotypes/AJ/chr6_AJ_release2.log...\n",
      "Copying gs://gp2tier2/release2_06052022/imputed_genotypes/AJ/chr6_AJ_release2.pgen...\n",
      "Copying gs://gp2tier2/release2_06052022/imputed_genotypes/AJ/chr6_AJ_release2.psam...\n",
      "Copying gs://gp2tier2/release2_06052022/imputed_genotypes/AJ/chr6_AJ_release2.pvar...\n",
      "Copying gs://gp2tier2/release2_06052022/imputed_genotypes/AJ/chr7_AJ_release2.log...\n",
      "Copying gs://gp2tier2/release2_06052022/imputed_genotypes/AJ/chr7_AJ_release2.pgen...\n",
      "Copying gs://gp2tier2/release2_06052022/imputed_genotypes/AJ/chr7_AJ_release2.psam...\n",
      "Copying gs://gp2tier2/release2_06052022/imputed_genotypes/AJ/chr7_AJ_release2.pvar...\n",
      "Copying gs://gp2tier2/release2_06052022/imputed_genotypes/AJ/chr8_AJ_release2.log...\n",
      "Copying gs://gp2tier2/release2_06052022/imputed_genotypes/AJ/chr8_AJ_release2.pgen...\n",
      "Copying gs://gp2tier2/release2_06052022/imputed_genotypes/AJ/chr8_AJ_release2.psam...\n",
      "Copying gs://gp2tier2/release2_06052022/imputed_genotypes/AJ/chr8_AJ_release2.pvar...\n",
      "Copying gs://gp2tier2/release2_06052022/imputed_genotypes/AJ/chr9_AJ_release2.log...\n",
      "Copying gs://gp2tier2/release2_06052022/imputed_genotypes/AJ/chr9_AJ_release2.pgen...\n",
      "Copying gs://gp2tier2/release2_06052022/imputed_genotypes/AJ/chr9_AJ_release2.psam...\n",
      "Copying gs://gp2tier2/release2_06052022/imputed_genotypes/AJ/chr9_AJ_release2.pvar...\n",
      "Copying gs://gp2tier2/release2_06052022/imputed_genotypes/AJ/chrX_AJ_release2.log...\n",
      "Copying gs://gp2tier2/release2_06052022/imputed_genotypes/AJ/chrX_AJ_release2.pgen...\n",
      "Copying gs://gp2tier2/release2_06052022/imputed_genotypes/AJ/chrX_AJ_release2.psam...\n",
      "Copying gs://gp2tier2/release2_06052022/imputed_genotypes/AJ/chrX_AJ_release2.pvar...\n",
      "| [92/92 files][  5.0 GiB/  5.0 GiB] 100% Done  60.2 MiB/s ETA 00:00:00         \n",
      "Operation completed over 92 objects/5.0 GiB.                                     \n"
     ]
    },
    {
     "name": "stderr",
     "output_type": "stream",
     "text": [
      "Executing: gsutil -u terra-9b559320 -m cp gs://gp2tier2/release2_06052022/meta_data/projected_pcs.csv /home/jupyter/LRRK2_GBA/\n"
     ]
    },
    {
     "name": "stdout",
     "output_type": "stream",
     "text": [
      "Copying gs://gp2tier2/release2_06052022/meta_data/projected_pcs.csv...\n",
      "/ [1/1 files][ 11.0 MiB/ 11.0 MiB] 100% Done                                    \n",
      "Operation completed over 1 objects/11.0 MiB.                                     \n"
     ]
    },
    {
     "name": "stderr",
     "output_type": "stream",
     "text": [
      "Executing: gsutil -u terra-9b559320 -m cp gs://gp2tier2/release2_06052022/clinical_data/master_key_release2_final.csv /home/jupyter/LRRK2_GBA/\n"
     ]
    },
    {
     "name": "stdout",
     "output_type": "stream",
     "text": [
      "Copying gs://gp2tier2/release2_06052022/clinical_data/master_key_release2_final.csv...\n",
      "/ [1/1 files][656.7 KiB/656.7 KiB] 100% Done                                    \n",
      "Operation completed over 1 objects/656.7 KiB.                                    \n"
     ]
    }
   ],
   "source": [
    "# Copy files from bucket to yout workspace - Here we will use EAS as an example\n",
    "shell_do(f'gsutil -u {BILLING_PROJECT_ID} -m cp -r {GP2_IMPUTED_GENO_PATH}/AJ {WORK_DIR}')\n",
    "shell_do(f'gsutil -u {BILLING_PROJECT_ID} -m cp {GP2_META_RELEASE_PATH}/projected_pcs.csv {WORK_DIR}')\n",
    "shell_do(f'gsutil -u {BILLING_PROJECT_ID} -m cp {GP2_CLINICAL_RELEASE_PATH}/master_key_release2_final.csv {WORK_DIR}')"
   ]
  },
  {
   "cell_type": "markdown",
   "metadata": {},
   "source": [
    "# Data formatting on covariate file"
   ]
  },
  {
   "cell_type": "code",
   "execution_count": 23,
   "metadata": {},
   "outputs": [
    {
     "data": {
      "text/plain": [
       "Index(['GP2ID', 'GP2sampleID', 'manifest_id', 'Phenotype', 'sex_for_qc', 'age',\n",
       "       'age_of_onset', 'age_at_diagnosis', 'age_at_death', 'race_for_qc',\n",
       "       'family_history_for_qc', 'region_for_qc'],\n",
       "      dtype='object')"
      ]
     },
     "execution_count": 23,
     "metadata": {},
     "output_type": "execute_result"
    }
   ],
   "source": [
    "# GP2 Tier 2 covariate file (master_key_release*)\n",
    "WORK_DIR = '/home/jupyter/LRRK2_GBA/'\n",
    "FULL_PATH = WORK_DIR + 'master_key_release2_final.csv'\n",
    "cov = pd.read_csv(FULL_PATH)\n",
    "cov.columns"
   ]
  },
  {
   "cell_type": "code",
   "execution_count": 25,
   "metadata": {},
   "outputs": [
    {
     "name": "stderr",
     "output_type": "stream",
     "text": [
      "/opt/conda/lib/python3.7/site-packages/pandas/core/frame.py:5047: SettingWithCopyWarning: \n",
      "A value is trying to be set on a copy of a slice from a DataFrame\n",
      "\n",
      "See the caveats in the documentation: https://pandas.pydata.org/pandas-docs/stable/user_guide/indexing.html#returning-a-view-versus-a-copy\n",
      "  errors=errors,\n"
     ]
    }
   ],
   "source": [
    "cov_reduced = cov[['GP2sampleID', 'sex_for_qc', 'age', 'Phenotype']]\n",
    "cov_reduced.rename(columns = {'GP2sampleID':'IID'}, inplace = True)\n",
    "# cov_reduced.head()"
   ]
  },
  {
   "cell_type": "code",
   "execution_count": 26,
   "metadata": {},
   "outputs": [
    {
     "data": {
      "text/plain": [
       "Index(['FID', 'IID', 'PC1', 'PC2', 'PC3', 'PC4', 'PC5', 'PC6', 'PC7', 'PC8',\n",
       "       'PC9', 'PC10', 'PC11', 'PC12', 'PC13', 'PC14', 'PC15', 'PC16', 'PC17',\n",
       "       'PC18', 'PC19', 'PC20', 'PC21', 'PC22', 'PC23', 'PC24', 'PC25', 'PC26',\n",
       "       'PC27', 'PC28', 'PC29', 'PC30', 'PC31', 'PC32', 'PC33', 'PC34', 'PC35',\n",
       "       'PC36', 'PC37', 'PC38', 'PC39', 'PC40', 'PC41', 'PC42', 'PC43', 'PC44',\n",
       "       'PC45', 'PC46', 'PC47', 'PC48', 'PC49', 'PC50', 'label'],\n",
       "      dtype='object')"
      ]
     },
     "execution_count": 26,
     "metadata": {},
     "output_type": "execute_result"
    }
   ],
   "source": [
    "# GP2 Tier 2 covariate file (projected PCs)\n",
    "WORK_DIR = '/home/jupyter/LRRK2_GBA/'\n",
    "FULL_PATH = WORK_DIR + 'projected_pcs.csv'\n",
    "cov2 = pd.read_csv(FULL_PATH)\n",
    "cov2.columns"
   ]
  },
  {
   "cell_type": "code",
   "execution_count": 27,
   "metadata": {},
   "outputs": [
    {
     "data": {
      "text/plain": [
       "2    5276\n",
       "1    3396\n",
       "0       8\n",
       "Name: Phenotype, dtype: int64"
      ]
     },
     "execution_count": 27,
     "metadata": {},
     "output_type": "execute_result"
    }
   ],
   "source": [
    "# Merge datasets by IID\n",
    "WORK_DIR = '/home/jupyter/LRRK2_GBA/'\n",
    "FULL_PATH = WORK_DIR + 'projected_pcs.csv'\n",
    "cov2 = pd.read_csv(FULL_PATH)\n",
    "cov_final = cov2.merge(cov_reduced, on='IID') # Horizontal.\n",
    "\n",
    "cov_for_rv_test_df = cov_final\n",
    "cov_for_rv_test_df.insert(0,'fid',cov_for_rv_test_df['FID'])\n",
    "cov_for_rv_test_df.insert(1,'iid',cov_for_rv_test_df['IID'])\n",
    "cov_for_rv_test_df.insert(2,'fatid',0)\n",
    "cov_for_rv_test_df.insert(3,'matid',0)\n",
    "cov_for_rv_test_df.insert(4,'sex',cov_for_rv_test_df['sex_for_qc'])\n",
    "\n",
    "cov_for_rv_test_df.loc[cov_for_rv_test_df[\"sex\"] == \"Male\", \"sex\"] = 1\n",
    "cov_for_rv_test_df.loc[cov_for_rv_test_df[\"sex\"] == \"Female\", \"sex\"] = 2\n",
    "cov_for_rv_test_df.loc[cov_for_rv_test_df[\"Phenotype\"] == \"Control\", \"Phenotype\"] = 1\n",
    "cov_for_rv_test_df.loc[cov_for_rv_test_df[\"Phenotype\"] == \"PD\", \"Phenotype\"] = 2\n",
    "cov_for_rv_test_df.loc[cov_for_rv_test_df[\"Phenotype\"] == \"Other\", \"Phenotype\"] = 0\n",
    "cov_for_rv_test_df.loc[cov_for_rv_test_df[\"Phenotype\"] == \"Not Reported\", \"Phenotype\"] = 0\n",
    "\n",
    "cov_for_rv_test_df.head()\n",
    "cov_for_rv_test_df.to_csv('/home/jupyter/LRRK2_GBA/gp2_covs_merged.csv', header=True, index=False)\n",
    "cov_for_rv_test_df.to_csv('/home/jupyter/LRRK2_GBA/gp2_covs_merged.txt', header=True, index=False, sep=\" \")\n",
    "\n",
    "pheno_for_rv_test_df = cov_for_rv_test_df[['fid','iid','Phenotype']]\n",
    "pheno_for_rv_test_df.to_csv('/home/jupyter/LRRK2_GBA/gp2_pheno_merged.csv', header=True, index=False)\n",
    "pheno_for_rv_test_df.to_csv('/home/jupyter/LRRK2_GBA/gp2_pheno_merged.txt', header=True, index=False, sep=\" \")\n",
    "\n",
    "cov_for_rv_test_df['Phenotype'].value_counts()"
   ]
  },
  {
   "cell_type": "markdown",
   "metadata": {},
   "source": [
    "## Extract LRRK2 and GBA genes from GP2 release 2 data"
   ]
  },
  {
   "cell_type": "code",
   "execution_count": 28,
   "metadata": {},
   "outputs": [
    {
     "name": "stdout",
     "output_type": "stream",
     "text": [
      "PLINK v2.00a3.3LM 64-bit Intel (3 Jun 2022)    www.cog-genomics.org/plink/2.0/\n",
      "(C) 2005-2022 Shaun Purcell, Christopher Chang   GNU General Public License v3\n",
      "Logging to LRRK2_AJ.log.\n",
      "Options in effect:\n",
      "  --chr 12\n",
      "  --from-bp 40196744\n",
      "  --make-bed\n",
      "  --out LRRK2_AJ\n",
      "  --pfile chr12_AJ_release2\n",
      "  --to-bp 40369285\n",
      "\n",
      "Start time: Mon Aug  1 01:29:10 2022\n",
      "3679 MiB RAM detected; reserving 1839 MiB for main workspace.\n",
      "Using 1 compute thread.\n",
      "750 samples (270 females, 480 males; 750 founders) loaded from\n",
      "chr12_AJ_release2.psam.\n",
      "526642 variants loaded from chr12_AJ_release2.pvar.\n",
      "1 binary phenotype loaded (550 cases, 200 controls).\n",
      "798 variants remaining after main filters.\n",
      "Writing LRRK2_AJ.fam ... done.\n",
      "Writing LRRK2_AJ.bim ... done.\n",
      "Writing LRRK2_AJ.bed ... 0%\b\bdone.\n",
      "End time: Mon Aug  1 01:29:11 2022\n"
     ]
    }
   ],
   "source": [
    "%%bash\n",
    "\n",
    "WORK_DIR='/home/jupyter/LRRK2_GBA/AJ'\n",
    "cd $WORK_DIR\n",
    "\n",
    "# LRRK2: Specify gene boundaries in hg38 (from https://useast.ensembl.org/index.html)\n",
    "/home/jupyter/plink2 \\\n",
    "--pfile chr12_AJ_release2 \\\n",
    "--chr 12 \\\n",
    "--from-bp 40196744  \\\n",
    "--to-bp 40369285 \\\n",
    "--make-bed \\\n",
    "--out LRRK2_AJ"
   ]
  },
  {
   "cell_type": "code",
   "execution_count": 29,
   "metadata": {},
   "outputs": [
    {
     "name": "stdout",
     "output_type": "stream",
     "text": [
      "PLINK v1.90b6.9 64-bit (4 Mar 2019)            www.cog-genomics.org/plink/1.9/\n",
      "(C) 2005-2019 Shaun Purcell, Christopher Chang   GNU General Public License v3\n",
      "Logging to LRRK2_AJ.log.\n",
      "Options in effect:\n",
      "  --bfile LRRK2_AJ\n",
      "  --out LRRK2_AJ\n",
      "  --recode vcf-fid\n",
      "\n",
      "3679 MB RAM detected; reserving 1839 MB for main workspace.\n",
      "798 variants loaded from .bim file.\n",
      "750 people (480 males, 270 females) loaded from .fam.\n",
      "750 phenotype values loaded from .fam.\n",
      "Using 1 thread.\n",
      "Before main variant filters, 750 founders and 0 nonfounders present.\n",
      "Calculating allele frequencies... 0%\b\b1%\b\b2%\b\b3%\b\b4%\b\b5%\b\b6%\b\b7%\b\b8%\b\b9%\b\b10%\b\b\b11%\b\b\b12%\b\b\b13%\b\b\b14%\b\b\b15%\b\b\b16%\b\b\b17%\b\b\b18%\b\b\b19%\b\b\b20%\b\b\b21%\b\b\b22%\b\b\b23%\b\b\b24%\b\b\b25%\b\b\b26%\b\b\b27%\b\b\b28%\b\b\b29%\b\b\b30%\b\b\b31%\b\b\b32%\b\b\b33%\b\b\b34%\b\b\b35%\b\b\b36%\b\b\b37%\b\b\b38%\b\b\b39%\b\b\b40%\b\b\b41%\b\b\b42%\b\b\b43%\b\b\b44%\b\b\b45%\b\b\b46%\b\b\b47%\b\b\b48%\b\b\b49%\b\b\b50%\b\b\b51%\b\b\b52%\b\b\b53%\b\b\b54%\b\b\b55%\b\b\b56%\b\b\b57%\b\b\b58%\b\b\b59%\b\b\b60%\b\b\b61%\b\b\b62%\b\b\b63%\b\b\b64%\b\b\b65%\b\b\b66%\b\b\b67%\b\b\b68%\b\b\b69%\b\b\b70%\b\b\b71%\b\b\b72%\b\b\b73%\b\b\b74%\b\b\b75%\b\b\b76%\b\b\b77%\b\b\b78%\b\b\b79%\b\b\b80%\b\b\b81%\b\b\b82%\b\b\b83%\b\b\b84%\b\b\b85%\b\b\b86%\b\b\b87%\b\b\b88%\b\b\b89%\b\b\b90%\b\b\b91%\b\b\b92%\b\b\b93%\b\b\b94%\b\b\b95%\b\b\b96%\b\b\b97%\b\b\b98%\b\b\b99%\b\b\b\b done.\n",
      "Total genotyping rate is 0.998964.\n",
      "798 variants and 750 people pass filters and QC.\n",
      "Among remaining phenotypes, 550 are cases and 200 are controls.\n",
      "--recode vcf-fid to LRRK2_AJ.vcf ... 0%\b\b1%\b\b2%\b\b3%\b\b4%\b\b5%\b\b6%\b\b7%\b\b8%\b\b9%\b\b10%\b\b\b11%\b\b\b12%\b\b\b13%\b\b\b14%\b\b\b15%\b\b\b16%\b\b\b17%\b\b\b18%\b\b\b19%\b\b\b20%\b\b\b21%\b\b\b22%\b\b\b23%\b\b\b24%\b\b\b25%\b\b\b26%\b\b\b27%\b\b\b28%\b\b\b29%\b\b\b30%\b\b\b31%\b\b\b32%\b\b\b33%\b\b\b34%\b\b\b35%\b\b\b36%\b\b\b37%\b\b\b38%\b\b\b39%\b\b\b40%\b\b\b41%\b\b\b42%\b\b\b43%\b\b\b44%\b\b\b45%\b\b\b46%\b\b\b47%\b\b\b48%\b\b\b49%\b\b\b50%\b\b\b51%\b\b\b52%\b\b\b53%\b\b\b54%\b\b\b55%\b\b\b56%\b\b\b57%\b\b\b58%\b\b\b59%\b\b\b60%\b\b\b61%\b\b\b62%\b\b\b63%\b\b\b64%\b\b\b65%\b\b\b66%\b\b\b67%\b\b\b68%\b\b\b69%\b\b\b70%\b\b\b71%\b\b\b72%\b\b\b73%\b\b\b74%\b\b\b75%\b\b\b76%\b\b\b77%\b\b\b78%\b\b\b79%\b\b\b80%\b\b\b81%\b\b\b82%\b\b\b83%\b\b\b84%\b\b\b85%\b\b\b86%\b\b\b87%\b\b\b88%\b\b\b89%\b\b\b90%\b\b\b91%\b\b\b92%\b\b\b93%\b\b\b94%\b\b\b95%\b\b\b96%\b\b\b97%\b\b\b98%\b\b\b99%\b\b\bdone.\n"
     ]
    }
   ],
   "source": [
    "%%bash\n",
    "\n",
    "WORK_DIR='/home/jupyter/LRRK2_GBA/AJ'\n",
    "cd $WORK_DIR\n",
    "\n",
    "# Convert binary files into vcf file\n",
    "/home/jupyter/plink1.9 \\\n",
    "--bfile LRRK2_AJ \\\n",
    "--recode vcf-fid \\\n",
    "--out LRRK2_AJ"
   ]
  },
  {
   "cell_type": "code",
   "execution_count": 30,
   "metadata": {},
   "outputs": [
    {
     "name": "stdout",
     "output_type": "stream",
     "text": [
      "PLINK v2.00a3.3LM 64-bit Intel (3 Jun 2022)    www.cog-genomics.org/plink/2.0/\n",
      "(C) 2005-2022 Shaun Purcell, Christopher Chang   GNU General Public License v3\n",
      "Logging to LRRK2_AJ_G2019S.log.\n",
      "Options in effect:\n",
      "  --chr 12\n",
      "  --from-bp 40340400\n",
      "  --make-bed\n",
      "  --out LRRK2_AJ_G2019S\n",
      "  --pfile chr12_AJ_release2\n",
      "  --to-bp 40340400\n",
      "\n",
      "Start time: Mon Aug  1 01:31:10 2022\n",
      "3679 MiB RAM detected; reserving 1839 MiB for main workspace.\n",
      "Using 1 compute thread.\n",
      "750 samples (270 females, 480 males; 750 founders) loaded from\n",
      "chr12_AJ_release2.psam.\n",
      "526642 variants loaded from chr12_AJ_release2.pvar.\n",
      "1 binary phenotype loaded (550 cases, 200 controls).\n",
      "1 variant remaining after main filters.\n",
      "Writing LRRK2_AJ_G2019S.fam ... done.\n",
      "Writing LRRK2_AJ_G2019S.bim ... done.\n",
      "Writing LRRK2_AJ_G2019S.bed ... 0%\b\bdone.\n",
      "End time: Mon Aug  1 01:31:10 2022\n"
     ]
    }
   ],
   "source": [
    "%%bash\n",
    "\n",
    "WORK_DIR='/home/jupyter/LRRK2_GBA/AJ'\n",
    "cd $WORK_DIR\n",
    "\n",
    "# How about LRRK2 G2019S?\n",
    "/home/jupyter/plink2 \\\n",
    "--pfile chr12_AJ_release2 \\\n",
    "--chr 12 \\\n",
    "--from-bp 40340400  \\\n",
    "--to-bp 40340400 \\\n",
    "--make-bed \\\n",
    "--out LRRK2_AJ_G2019S"
   ]
  },
  {
   "cell_type": "code",
   "execution_count": 31,
   "metadata": {},
   "outputs": [
    {
     "name": "stdout",
     "output_type": "stream",
     "text": [
      "PLINK v2.00a3.3LM 64-bit Intel (3 Jun 2022)    www.cog-genomics.org/plink/2.0/\n",
      "(C) 2005-2022 Shaun Purcell, Christopher Chang   GNU General Public License v3\n",
      "Logging to GBA_AJ.log.\n",
      "Options in effect:\n",
      "  --chr 1\n",
      "  --from-bp 155234452\n",
      "  --make-bed\n",
      "  --out GBA_AJ\n",
      "  --pfile chr1_AJ_release2\n",
      "  --to-bp 155244699\n",
      "\n",
      "Start time: Mon Aug  1 01:31:57 2022\n",
      "3679 MiB RAM detected; reserving 1839 MiB for main workspace.\n",
      "Using 1 compute thread.\n",
      "750 samples (270 females, 480 males; 750 founders) loaded from\n",
      "chr1_AJ_release2.psam.\n",
      "859027 variants loaded from chr1_AJ_release2.pvar.\n",
      "1 binary phenotype loaded (550 cases, 200 controls).\n",
      "23 variants remaining after main filters.\n",
      "Writing GBA_AJ.fam ... done.\n",
      "Writing GBA_AJ.bim ... done.\n",
      "Writing GBA_AJ.bed ... 0%\b\bdone.\n",
      "End time: Mon Aug  1 01:31:58 2022\n"
     ]
    }
   ],
   "source": [
    "%%bash\n",
    "\n",
    "WORK_DIR='/home/jupyter/LRRK2_GBA/AJ'\n",
    "cd $WORK_DIR\n",
    "\n",
    "# GBA: Specify gene boundaries in hg38 (from https://useast.ensembl.org/index.html)\n",
    "/home/jupyter/plink2 \\\n",
    "--pfile chr1_AJ_release2 \\\n",
    "--chr 1 \\\n",
    "--from-bp 155234452  \\\n",
    "--to-bp 155244699 \\\n",
    "--make-bed \\\n",
    "--out GBA_AJ"
   ]
  },
  {
   "cell_type": "code",
   "execution_count": 32,
   "metadata": {},
   "outputs": [
    {
     "name": "stdout",
     "output_type": "stream",
     "text": [
      "PLINK v1.90b6.9 64-bit (4 Mar 2019)            www.cog-genomics.org/plink/1.9/\n",
      "(C) 2005-2019 Shaun Purcell, Christopher Chang   GNU General Public License v3\n",
      "Logging to GBA_AJ.log.\n",
      "Options in effect:\n",
      "  --bfile GBA_AJ\n",
      "  --out GBA_AJ\n",
      "  --recode vcf-fid\n",
      "\n",
      "3679 MB RAM detected; reserving 1839 MB for main workspace.\n",
      "23 variants loaded from .bim file.\n",
      "750 people (480 males, 270 females) loaded from .fam.\n",
      "750 phenotype values loaded from .fam.\n",
      "Using 1 thread.\n",
      "Before main variant filters, 750 founders and 0 nonfounders present.\n",
      "Calculating allele frequencies... 0%\b\b1%\b\b2%\b\b3%\b\b4%\b\b5%\b\b6%\b\b7%\b\b8%\b\b9%\b\b10%\b\b\b11%\b\b\b12%\b\b\b13%\b\b\b14%\b\b\b15%\b\b\b16%\b\b\b17%\b\b\b18%\b\b\b19%\b\b\b20%\b\b\b21%\b\b\b22%\b\b\b23%\b\b\b24%\b\b\b25%\b\b\b26%\b\b\b27%\b\b\b28%\b\b\b29%\b\b\b30%\b\b\b31%\b\b\b32%\b\b\b33%\b\b\b34%\b\b\b35%\b\b\b36%\b\b\b37%\b\b\b38%\b\b\b39%\b\b\b40%\b\b\b41%\b\b\b42%\b\b\b43%\b\b\b44%\b\b\b45%\b\b\b46%\b\b\b47%\b\b\b48%\b\b\b49%\b\b\b50%\b\b\b51%\b\b\b52%\b\b\b53%\b\b\b54%\b\b\b55%\b\b\b56%\b\b\b57%\b\b\b58%\b\b\b59%\b\b\b60%\b\b\b61%\b\b\b62%\b\b\b63%\b\b\b64%\b\b\b65%\b\b\b66%\b\b\b67%\b\b\b68%\b\b\b69%\b\b\b70%\b\b\b71%\b\b\b72%\b\b\b73%\b\b\b74%\b\b\b75%\b\b\b76%\b\b\b77%\b\b\b78%\b\b\b79%\b\b\b80%\b\b\b81%\b\b\b82%\b\b\b83%\b\b\b84%\b\b\b85%\b\b\b86%\b\b\b87%\b\b\b88%\b\b\b89%\b\b\b90%\b\b\b91%\b\b\b92%\b\b\b93%\b\b\b94%\b\b\b95%\b\b\b96%\b\b\b97%\b\b\b98%\b\b\b99%\b\b\b\b done.\n",
      "Total genotyping rate is 0.992754.\n",
      "23 variants and 750 people pass filters and QC.\n",
      "Among remaining phenotypes, 550 are cases and 200 are controls.\n",
      "--recode vcf-fid to GBA_AJ.vcf ... 0%\b\b1%\b\b2%\b\b3%\b\b4%\b\b5%\b\b6%\b\b7%\b\b8%\b\b9%\b\b10%\b\b\b11%\b\b\b12%\b\b\b13%\b\b\b14%\b\b\b15%\b\b\b16%\b\b\b17%\b\b\b18%\b\b\b19%\b\b\b20%\b\b\b21%\b\b\b22%\b\b\b23%\b\b\b24%\b\b\b25%\b\b\b26%\b\b\b27%\b\b\b28%\b\b\b29%\b\b\b30%\b\b\b31%\b\b\b32%\b\b\b33%\b\b\b34%\b\b\b35%\b\b\b36%\b\b\b37%\b\b\b38%\b\b\b39%\b\b\b40%\b\b\b41%\b\b\b42%\b\b\b43%\b\b\b44%\b\b\b45%\b\b\b46%\b\b\b47%\b\b\b48%\b\b\b49%\b\b\b50%\b\b\b51%\b\b\b52%\b\b\b53%\b\b\b54%\b\b\b55%\b\b\b56%\b\b\b57%\b\b\b58%\b\b\b59%\b\b\b60%\b\b\b61%\b\b\b62%\b\b\b63%\b\b\b64%\b\b\b65%\b\b\b66%\b\b\b67%\b\b\b68%\b\b\b69%\b\b\b70%\b\b\b71%\b\b\b72%\b\b\b73%\b\b\b74%\b\b\b75%\b\b\b76%\b\b\b77%\b\b\b78%\b\b\b79%\b\b\b80%\b\b\b81%\b\b\b82%\b\b\b83%\b\b\b84%\b\b\b85%\b\b\b86%\b\b\b87%\b\b\b88%\b\b\b89%\b\b\b90%\b\b\b91%\b\b\b92%\b\b\b93%\b\b\b94%\b\b\b95%\b\b\b96%\b\b\b97%\b\b\b98%\b\b\b99%\b\b\bdone.\n"
     ]
    }
   ],
   "source": [
    "%%bash\n",
    "\n",
    "WORK_DIR='/home/jupyter/LRRK2_GBA/AJ'\n",
    "cd $WORK_DIR\n",
    "\n",
    "# Convert binary files into vcf file\n",
    "/home/jupyter/plink1.9 \\\n",
    "--bfile GBA_AJ \\\n",
    "--recode vcf-fid \\\n",
    "--out GBA_AJ"
   ]
  },
  {
   "cell_type": "code",
   "execution_count": 33,
   "metadata": {},
   "outputs": [
    {
     "name": "stdout",
     "output_type": "stream",
     "text": [
      "PLINK v2.00a3.3LM 64-bit Intel (3 Jun 2022)    www.cog-genomics.org/plink/2.0/\n",
      "(C) 2005-2022 Shaun Purcell, Christopher Chang   GNU General Public License v3\n",
      "Logging to GBA_AJ_N370S.log.\n",
      "Options in effect:\n",
      "  --chr 1\n",
      "  --from-bp 155235843\n",
      "  --make-bed\n",
      "  --out GBA_AJ_N370S\n",
      "  --pfile chr1_AJ_release2\n",
      "  --to-bp 155235843\n",
      "\n",
      "Start time: Mon Aug  1 01:33:11 2022\n",
      "3679 MiB RAM detected; reserving 1839 MiB for main workspace.\n",
      "Using 1 compute thread.\n",
      "750 samples (270 females, 480 males; 750 founders) loaded from\n",
      "chr1_AJ_release2.psam.\n",
      "859027 variants loaded from chr1_AJ_release2.pvar.\n",
      "1 binary phenotype loaded (550 cases, 200 controls).\n",
      "1 variant remaining after main filters.\n",
      "Writing GBA_AJ_N370S.fam ... done.\n",
      "Writing GBA_AJ_N370S.bim ... done.\n",
      "Writing GBA_AJ_N370S.bed ... 0%\b\bdone.\n",
      "End time: Mon Aug  1 01:33:11 2022\n"
     ]
    }
   ],
   "source": [
    "%%bash\n",
    "\n",
    "WORK_DIR='/home/jupyter/LRRK2_GBA/AJ'\n",
    "cd $WORK_DIR\n",
    "\n",
    "# How about GBA N370S?\n",
    "/home/jupyter/plink2 \\\n",
    "--pfile chr1_AJ_release2 \\\n",
    "--chr 1 \\\n",
    "--from-bp 155235843  \\\n",
    "--to-bp 155235843 \\\n",
    "--make-bed \\\n",
    "--out GBA_AJ_N370S"
   ]
  },
  {
   "cell_type": "code",
   "execution_count": 34,
   "metadata": {},
   "outputs": [
    {
     "name": "stderr",
     "output_type": "stream",
     "text": [
      "[bgzip] can't create LRRK2_AJ.vcf.gz: File exists\n",
      "[bgzip] can't create GBA_AJ.vcf.gz: File exists\n"
     ]
    }
   ],
   "source": [
    "%%bash\n",
    "\n",
    "WORK_DIR='/home/jupyter/LRRK2_GBA/AJ'\n",
    "cd $WORK_DIR\n",
    "export PATH=$PATH:/home/jupyter/rvtests/third/tabix-0.2.6/\n",
    "\n",
    "bgzip LRRK2_AJ.vcf\n",
    "bgzip GBA_AJ.vcf\n",
    "\n",
    "tabix -f -p vcf LRRK2_AJ.vcf.gz\n",
    "tabix -f -p vcf GBA_AJ.vcf.gz"
   ]
  },
  {
   "cell_type": "code",
   "execution_count": 37,
   "metadata": {},
   "outputs": [
    {
     "name": "stdout",
     "output_type": "stream",
     "text": [
      "/home/jupyter/LRRK2_GBA/AJ/GBA_AJ.annovar.hg38_multianno.vcf\n",
      "/home/jupyter/LRRK2_GBA/AJ/GBA_AJ.vcf\n",
      "/home/jupyter/LRRK2_GBA/AJ/LRRK2_AJ.annovar.hg38_multianno.vcf\n",
      "/home/jupyter/LRRK2_GBA/AJ/LRRK2_AJ.coding.vcf\n",
      "/home/jupyter/LRRK2_GBA/AJ/LRRK2_AJ.vcf\n"
     ]
    }
   ],
   "source": [
    "%%bash\n",
    "\n",
    "WORK_DIR='/home/jupyter/LRRK2_GBA/AJ'\n",
    "ls $WORK_DIR/*vcf*"
   ]
  },
  {
   "cell_type": "markdown",
   "metadata": {},
   "source": [
    "## Annotate variants"
   ]
  },
  {
   "cell_type": "code",
   "execution_count": null,
   "metadata": {},
   "outputs": [],
   "source": [
    "%%bash\n",
    "\n",
    "WORK_DIR='/home/jupyter/LRRK2_GBA/AJ'\n",
    "cd $WORK_DIR\n",
    "\n",
    "perl /home/jupyter/annovar/table_annovar.pl LRRK2_AJ.vcf.gz /home/jupyter/annovar/humandb/ -buildver hg38 \\\n",
    "-out LRRK2_AJ.annovar \\\n",
    "-remove -protocol refGene,clinvar_20140902 \\\n",
    "-operation g,f \\\n",
    "--nopolish \\\n",
    "-nastring . \\\n",
    "-vcfinput"
   ]
  },
  {
   "cell_type": "code",
   "execution_count": null,
   "metadata": {},
   "outputs": [],
   "source": [
    "%%bash\n",
    "\n",
    "WORK_DIR='/home/jupyter/LRRK2_GBA/AJ'\n",
    "cd $WORK_DIR\n",
    "\n",
    "# Make a header\n",
    "head -1 LRRK2_AJ.annovar.hg38_multianno.txt > header_LRRK2.txt\n",
    "\n",
    "# Count number of columns in the header\n",
    "colct=\"$(wc -w header_LRRK2.txt | cut -f1 -d' ')\"\n",
    "\n",
    "# Extract columns in the header (we want to get rid of all the indv columns without a header)\n",
    "cut -f1-$colct LRRK2_AJ.annovar.hg38_multianno.txt > LRRK2_AJ.trimmed.annotation.txt"
   ]
  },
  {
   "cell_type": "code",
   "execution_count": null,
   "metadata": {},
   "outputs": [],
   "source": [
    "%%bash\n",
    "\n",
    "WORK_DIR='/home/jupyter/LRRK2_GBA/AJ'\n",
    "cd $WORK_DIR\n",
    "\n",
    "# Extract exonic variants\n",
    "awk '$6==\"exonic\" {print}' LRRK2_AJ.trimmed.annotation.txt > LRRK2_AJ.trimmed.coding.annotation.txt\n",
    "\n",
    "# Extract columns chr, pos, pos, gene\n",
    "awk '{print $1\" \"$2\" \"$2\" \"$7}' LRRK2_AJ.trimmed.coding.annotation.txt > LRRK2_AJ.trimmed.coding.SNPs.txt\n",
    "head LRRK2_AJ.trimmed.coding.SNPs.txt\n",
    "wc -l LRRK2_AJ.trimmed.coding.SNPs.txt"
   ]
  },
  {
   "cell_type": "code",
   "execution_count": null,
   "metadata": {},
   "outputs": [],
   "source": [
    "%%bash\n",
    "\n",
    "WORK_DIR='/home/jupyter/LRRK2_GBA/AJ'\n",
    "cd $WORK_DIR\n",
    "\n",
    "perl /home/jupyter/annovar/table_annovar.pl GBA_AJ.vcf.gz /home/jupyter/annovar/humandb/ -buildver hg38 \\\n",
    "-out GBA_AJ.annovar \\\n",
    "-remove -protocol refGene,clinvar_20140902 \\\n",
    "-operation g,f \\\n",
    "--nopolish \\\n",
    "-nastring . \\\n",
    "-vcfinput"
   ]
  },
  {
   "cell_type": "code",
   "execution_count": null,
   "metadata": {},
   "outputs": [],
   "source": [
    "%%bash\n",
    "\n",
    "WORK_DIR='/home/jupyter/LRRK2_GBA/AJ'\n",
    "cd $WORK_DIR\n",
    "\n",
    "head -1 GBA_AJ.annovar.hg38_multianno.txt > header_GBA.txt\n",
    "colct=\"$(wc -w header_GBA.txt | cut -f1 -d' ')\"\n",
    "cut -f1-$colct GBA_AJ.annovar.hg38_multianno.txt > GBA_AJ.trimmed.annotation.txt"
   ]
  },
  {
   "cell_type": "code",
   "execution_count": null,
   "metadata": {},
   "outputs": [],
   "source": [
    "%%bash\n",
    "\n",
    "WORK_DIR='/home/jupyter/LRRK2_GBA/AJ'\n",
    "cd $WORK_DIR\n",
    "\n",
    "# Extract exonic variants\n",
    "awk '$6==\"exonic\" {print}' GBA_AJ.trimmed.annotation.txt > GBA_AJ.trimmed.coding.annotation.txt\n",
    "\n",
    "# Extract columns chr, pos, pos, gene\n",
    "awk '{print $1\" \"$2\" \"$2\" \"$7}' GBA_AJ.trimmed.coding.annotation.txt > GBA_AJ.trimmed.coding.SNPs.txt\n",
    "head GBA_AJ.trimmed.coding.SNPs.txt\n",
    "wc -l GBA_AJ.trimmed.coding.SNPs.txt"
   ]
  },
  {
   "cell_type": "markdown",
   "metadata": {},
   "source": [
    "## Run burden analyses"
   ]
  },
  {
   "cell_type": "code",
   "execution_count": null,
   "metadata": {},
   "outputs": [],
   "source": [
    "%%bash\n",
    "\n",
    "# Run burden analyses only using coding variants\n",
    "WORK_DIR='/home/jupyter/LRRK2_GBA/AJ'\n",
    "cd $WORK_DIR\n",
    "\n",
    "/home/jupyter/plink1.9 \\\n",
    "--bfile LRRK2_AJ \\\n",
    "--extract range LRRK2_AJ.trimmed.coding.SNPs.txt \\\n",
    "--recode vcf-iid \\\n",
    "--out LRRK2_AJ.coding"
   ]
  },
  {
   "cell_type": "code",
   "execution_count": null,
   "metadata": {},
   "outputs": [],
   "source": [
    "%%bash\n",
    "\n",
    "WORK_DIR='/home/jupyter/LRRK2_GBA/AJ'\n",
    "cd $WORK_DIR\n",
    "\n",
    "export PATH=$PATH:/home/jupyter/rvtests/third/tabix-0.2.6/\n",
    "bgzip LRRK2_AJ.coding.vcf\n",
    "tabix -f -p vcf LRRK2_AJ.coding.vcf.gz"
   ]
  },
  {
   "cell_type": "code",
   "execution_count": null,
   "metadata": {},
   "outputs": [],
   "source": [
    "%%bash\n",
    "\n",
    "WORK_DIR='/home/jupyter/LRRK2_GBA/AJ'\n",
    "cd $WORK_DIR\n",
    "\n",
    "/home/jupyter/executable/rvtest --noweb --hide-covar \\\n",
    "--out LRRK2_AJ_burden \\\n",
    "--burden cmc,zeggini,mb,fp,cmcWald --kernel skat,skato \\\n",
    "--inVcf LRRK2_AJ.coding.vcf.gz \\\n",
    "--pheno /home/jupyter/LRRK2_GBA/gp2_covs_merged.txt  \\\n",
    "--pheno-name Phenotype \\\n",
    "--geneFile /home/jupyter/refFlat.txt \\\n",
    "--covar /home/jupyter/LRRK2_GBA/gp2_covs_merged.txt \\\n",
    "--covar-name sex,PC1,PC2,PC3,PC4,PC5,PC6,PC7,PC8,PC9,PC10 \\\n",
    "\n",
    "# --out : Name of output \n",
    "# --burden cmc --kernel skato: tests to run \n",
    "# --inVcf : VCF file \n",
    "# --geneFile refFlat.txt\n",
    "# --pheno :  covar file\n",
    "# --pheno-name : column name with phenotype in file\n",
    "# --covar : covar file\n",
    "# --freqUpper : optional, MAF cut-off\n",
    "# --covar-name : covariates, listed by column name, separated by commas (no spaces between commas)\n"
   ]
  },
  {
   "cell_type": "code",
   "execution_count": null,
   "metadata": {},
   "outputs": [],
   "source": [
    "%%bash\n",
    "\n",
    "WORK_DIR=/home/jupyter/LRRK2_GBA/AJ\n",
    "ls $WORK_DIR/*assoc"
   ]
  },
  {
   "cell_type": "markdown",
   "metadata": {},
   "source": [
    "## Explore PARK2 homozygotes and compound heterozygotes (coding variants only)"
   ]
  },
  {
   "cell_type": "code",
   "execution_count": null,
   "metadata": {},
   "outputs": [],
   "source": [
    "# Create a folder on your workspace\n",
    "print(\"Making a working directory\")\n",
    "WORK_DIR_2 = f'/home/jupyter/PARK2/AJ'\n",
    "shell_do(f'mkdir -p {WORK_DIR_2}') # f' stands for f-string which contains expressions inside brackets"
   ]
  },
  {
   "cell_type": "code",
   "execution_count": null,
   "metadata": {},
   "outputs": [],
   "source": [
    "%%bash -s $WORK_DIR\n",
    "\n",
    "WORK_DIR=/home/jupyter/LRRK2_GBA/AJ\n",
    "WORK_DIR_2=/home/jupyter/PARK2/AJ\n",
    "\n",
    "cd $1\n",
    "\n",
    "/home/jupyter/plink2 \\\n",
    "--pfile $WORK_DIR/chr6_AJ_release2 \\\n",
    "--chr 6 \\\n",
    "--from-bp 161347417   \\\n",
    "--to-bp 162727775 \\\n",
    "--make-bed \\\n",
    "--out $WORK_DIR_2/PARK2_AJ"
   ]
  },
  {
   "cell_type": "code",
   "execution_count": null,
   "metadata": {},
   "outputs": [],
   "source": [
    "%%bash\n",
    "\n",
    "WORK_DIR=/home/jupyter/LRRK2_GBA/AJ\n",
    "WORK_DIR_2=/home/jupyter/PARK2/AJ\n",
    "cd $WORK_DIR_2\n",
    "\n",
    "/home/jupyter/plink1.9 \\\n",
    "--bfile PARK2_AJ \\\n",
    "--recode vcf-iid \\\n",
    "--out PARK2_AJ"
   ]
  },
  {
   "cell_type": "code",
   "execution_count": null,
   "metadata": {},
   "outputs": [],
   "source": [
    "%%bash\n",
    "\n",
    "WORK_DIR_2=/home/jupyter/PARK2/AJ\n",
    "cd $WORK_DIR_2\n",
    "\n",
    "export PATH=$PATH:/home/jupyter/rvtests/third/tabix-0.2.6/\n",
    "bgzip PARK2_AJ.vcf\n",
    "tabix -f -p vcf PARK2_AJ.vcf.gz"
   ]
  },
  {
   "cell_type": "code",
   "execution_count": null,
   "metadata": {},
   "outputs": [],
   "source": [
    "%%bash\n",
    "\n",
    "WORK_DIR_2=/home/jupyter/PARK2/AJ\n",
    "cd $WORK_DIR_2\n",
    "\n",
    "perl /home/jupyter/annovar/table_annovar.pl PARK2_AJ.vcf.gz /home/jupyter/annovar/humandb/ -buildver hg38 \\\n",
    "-out PARK2_AJ.annovar \\\n",
    "-remove -protocol refGene,clinvar_20140902 \\\n",
    "-operation g,f \\\n",
    "-nastring . \\\n",
    "-vcfinput"
   ]
  },
  {
   "cell_type": "code",
   "execution_count": null,
   "metadata": {},
   "outputs": [],
   "source": [
    "%%bash\n",
    "\n",
    "WORK_DIR_2=/home/jupyter/PARK2/AJ\n",
    "cd $WORK_DIR_2\n",
    "\n",
    "head -1 PARK2_AJ.annovar.hg38_multianno.txt > header_PARK2_AJ.txt\n",
    "colct=\"$(wc -w header_PARK2_AJ.txt | cut -f1 -d' ')\"\n",
    "cut -f1-$colct PARK2_AJ.annovar.hg38_multianno.txt > PARK2_AJ.trimmed.annotation.txt"
   ]
  },
  {
   "cell_type": "code",
   "execution_count": null,
   "metadata": {},
   "outputs": [],
   "source": [
    "%%bash\n",
    "\n",
    "WORK_DIR_2=/home/jupyter/PARK2/AJ\n",
    "cd $WORK_DIR_2\n",
    "\n",
    "# Extract exonic variants\n",
    "awk '$6==\"exonic\" {print}' PARK2_AJ.trimmed.annotation.txt > PARK2_AJ.trimmed.coding.annotation.txt\n",
    "awk '{print $1\" \"$2\" \"$2\" \"$7}' PARK2_AJ.trimmed.coding.annotation.txt > PARK2_AJ.trimmed.coding.SNPs.txt"
   ]
  },
  {
   "cell_type": "code",
   "execution_count": null,
   "metadata": {},
   "outputs": [],
   "source": [
    "%%bash\n",
    "\n",
    "WORK_DIR_2=/home/jupyter/PARK2/AJ\n",
    "cd $WORK_DIR_2\n",
    "\n",
    "# Head file and count lines \n",
    "head PARK2_AJ.trimmed.coding.SNPs.txt\n",
    "wc -l PARK2_AJ.trimmed.coding.SNPs.txt"
   ]
  },
  {
   "cell_type": "code",
   "execution_count": null,
   "metadata": {},
   "outputs": [],
   "source": [
    "%%bash\n",
    "\n",
    "WORK_DIR_2=/home/jupyter/PARK2/AJ/\n",
    "cd $WORK_DIR_2\n",
    "\n",
    "# Extract only coding variants\n",
    "/home/jupyter/plink1.9 \\\n",
    "--bfile PARK2_AJ \\\n",
    "--extract range PARK2_AJ.trimmed.coding.SNPs.txt \\\n",
    "--recode A \\\n",
    "--out PARK2_AJ.coding"
   ]
  },
  {
   "cell_type": "code",
   "execution_count": null,
   "metadata": {},
   "outputs": [],
   "source": [
    "WORK_DIR_2 = f'/home/jupyter/PARK2/AJ/'\n",
    "FULL_PATH = WORK_DIR_2 + 'PARK2_AJ.coding.raw'\n",
    "PARK2 = pd.read_csv(FULL_PATH, sep = \" \")\n",
    "PARK2.columns\n",
    "# PARK2.head()"
   ]
  },
  {
   "cell_type": "code",
   "execution_count": null,
   "metadata": {},
   "outputs": [],
   "source": [
    "PARK2.shape"
   ]
  },
  {
   "cell_type": "code",
   "execution_count": null,
   "metadata": {},
   "outputs": [],
   "source": [
    "# Identifying individuals homozygotes for the alternate allele\n",
    "homo = PARK2[(PARK2['chr6:161360193:C:T_T'] == 2) | (PARK2['chr6:161386823:C:G_G'] == 2) | (PARK2['chr6:162201165:C:T_T'] == 2)]\n",
    "homo = homo.dropna()\n",
    "print(homo.shape)\n",
    "# homo.head()          \n"
   ]
  },
  {
   "cell_type": "code",
   "execution_count": null,
   "metadata": {},
   "outputs": [],
   "source": [
    "homo_info_control = homo[homo['PHENOTYPE'] == 1]\n",
    "print(homo_info_control.shape)\n",
    "homo_info_case = homo[homo['PHENOTYPE'] == 2]\n",
    "print(homo_info_case.shape)"
   ]
  },
  {
   "cell_type": "code",
   "execution_count": null,
   "metadata": {},
   "outputs": [],
   "source": [
    "# homo_info_control.head()"
   ]
  },
  {
   "cell_type": "code",
   "execution_count": null,
   "metadata": {},
   "outputs": [],
   "source": [
    "homo_info_control.to_csv('PARK2.coding.homo.controls.txt', sep = '\\t', index=False)"
   ]
  },
  {
   "cell_type": "code",
   "execution_count": null,
   "metadata": {},
   "outputs": [],
   "source": [
    "# homo_info_case.head()"
   ]
  },
  {
   "cell_type": "code",
   "execution_count": null,
   "metadata": {},
   "outputs": [],
   "source": [
    "homo_info_case.to_csv('PARK2.coding.homo.case.txt', sep = '\\t', index=False)"
   ]
  },
  {
   "cell_type": "code",
   "execution_count": null,
   "metadata": {},
   "outputs": [],
   "source": [
    "# Identifying individuals heterozygotes for the alternate allele\n",
    "het = PARK2[(PARK2['chr6:161360193:C:T_T'] == 1) | (PARK2['chr6:161386823:C:G_G'] == 1) | (PARK2['chr6:162201165:C:T_T'] == 1)]\n",
    "het = het.dropna()\n",
    "print(het.shape)\n",
    "# het.head() "
   ]
  },
  {
   "cell_type": "code",
   "execution_count": null,
   "metadata": {},
   "outputs": [],
   "source": [
    "het['compound'] = het['chr6:161360193:C:T_T'] + het['chr6:161386823:C:G_G'] + het['chr6:162201165:C:T_T']\n",
    "het['compound'].value_counts()"
   ]
  },
  {
   "cell_type": "code",
   "execution_count": null,
   "metadata": {},
   "outputs": [],
   "source": [
    "comp_het_info_case = het[(het['PHENOTYPE'] ==2) & (het['compound'] ==2)]\n",
    "print(comp_het_info_case.shape)\n",
    "comp_het_info_control = het[(het['PHENOTYPE'] ==1) & (het['compound'] ==2)]\n",
    "print(comp_het_info_control.shape)"
   ]
  },
  {
   "cell_type": "code",
   "execution_count": null,
   "metadata": {},
   "outputs": [],
   "source": [
    "comp_het_info_case.to_csv('/home/jupyter/PARK2/AJ/PARK2.coding.het.comp.case.txt', sep = '\\t', index=True)"
   ]
  },
  {
   "cell_type": "code",
   "execution_count": null,
   "metadata": {},
   "outputs": [],
   "source": [
    "comp_het_info_control.to_csv('/home/jupyter/PARK2/AJ/PARK2.coding.het.comp.controls.txt', sep = '\\t', index=True)"
   ]
  },
  {
   "cell_type": "markdown",
   "metadata": {},
   "source": [
    "# Save out results"
   ]
  },
  {
   "cell_type": "code",
   "execution_count": null,
   "metadata": {},
   "outputs": [],
   "source": [
    "%%bash\n",
    "\n",
    "WORK_DIR_2=/home/jupyter/PARK2/AJ\n",
    "cd $WORK_DIR_2\n",
    "\n",
    "gsutil cp PARK2.coding.het.comp.case.txt gs://fc-762ef56f-d73b-4327-8e97-3213cce671fb\n",
    "gsutil cp PARK2.coding.het.comp.controls.txt gs://fc-762ef56f-d73b-4327-8e97-3213cce671fb\n",
    "\n",
    "WORK_DIR=/home/jupyter/LRRK2_GBA/AJ\n",
    "cd $WORK_DIR\n",
    "\n",
    "gsutil cp *assoc gs://fc-762ef56f-d73b-4327-8e97-3213cce671fb"
   ]
  }
 ],
 "metadata": {
  "kernelspec": {
   "display_name": "Python 3",
   "language": "python",
   "name": "python3"
  },
  "language_info": {
   "codemirror_mode": {
    "name": "ipython",
    "version": 3
   },
   "file_extension": ".py",
   "mimetype": "text/x-python",
   "name": "python",
   "nbconvert_exporter": "python",
   "pygments_lexer": "ipython3",
   "version": "3.7.12"
  },
  "toc": {
   "base_numbering": 1,
   "nav_menu": {},
   "number_sections": true,
   "sideBar": true,
   "skip_h1_title": false,
   "title_cell": "Table of Contents",
   "title_sidebar": "Contents",
   "toc_cell": false,
   "toc_position": {},
   "toc_section_display": true,
   "toc_window_display": false
  }
 },
 "nbformat": 4,
 "nbformat_minor": 2
}
